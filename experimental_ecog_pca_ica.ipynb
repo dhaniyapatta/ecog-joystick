{
  "nbformat": 4,
  "nbformat_minor": 0,
  "metadata": {
    "colab": {
      "provenance": [],
      "authorship_tag": "ABX9TyO20IqRVTo8GyW4l3u/sb6N",
      "include_colab_link": true
    },
    "kernelspec": {
      "name": "python3",
      "display_name": "Python 3"
    },
    "language_info": {
      "name": "python"
    }
  },
  "cells": [
    {
      "cell_type": "markdown",
      "metadata": {
        "id": "view-in-github",
        "colab_type": "text"
      },
      "source": [
        "<a href=\"https://colab.research.google.com/github/dhaniyapatta/ecog-joystick/blob/main/experimental_ecog_pca_ica.ipynb\" target=\"_parent\"><img src=\"https://colab.research.google.com/assets/colab-badge.svg\" alt=\"Open In Colab\"/></a>"
      ]
    },
    {
      "cell_type": "code",
      "execution_count": 5,
      "metadata": {
        "colab": {
          "base_uri": "https://localhost:8080/"
        },
        "id": "o8ppjDoO6Vxa",
        "outputId": "6e41d13f-1044-42c9-aa86-0ca6060e24f0"
      },
      "outputs": [
        {
          "output_type": "stream",
          "name": "stdout",
          "text": [
            "\u001b[2K     \u001b[90m━━━━━━━━━━━━━━━━━━━━━━━━━━━━━━━━━━━━━━━━\u001b[0m \u001b[32m7.4/7.4 MB\u001b[0m \u001b[31m14.5 MB/s\u001b[0m eta \u001b[36m0:00:00\u001b[0m\n",
            "\u001b[?25h"
          ]
        }
      ],
      "source": [
        "#@title Data retrieval\n",
        "import os, requests\n",
        "\n",
        "fname = 'joystick_track.npz'\n",
        "url = \"https://osf.io/6jncm/download\"\n",
        "\n",
        "if not os.path.isfile(fname):\n",
        "  try:\n",
        "    r = requests.get(url)\n",
        "  except requests.ConnectionError:\n",
        "    print(\"!!! Failed to download data !!!\")\n",
        "  else:\n",
        "    if r.status_code != requests.codes.ok:\n",
        "      print(\"!!! Failed to download data !!!\")\n",
        "    else:\n",
        "      with open(fname, \"wb\") as fid:\n",
        "        fid.write(r.content)\n",
        "\n",
        "\n",
        "# @title Install packages (`nilearn`, `nimare`. `duecredit`), import `matplotlib` and set defaults\n",
        "# install packages to visualize brains and electrode locations\n",
        "!pip install nilearn --quiet\n",
        "!pip install nimare --quiet\n",
        "!pip install duecredit --quiet\n",
        "!pip install mne --quiet\n",
        "\n",
        "from matplotlib import rcParams\n",
        "from matplotlib import pyplot as plt\n",
        "import numpy as np\n",
        "from nilearn import plotting\n",
        "from nimare import utils\n",
        "\n",
        "import mne\n",
        "# For elimiating warnings\n",
        "from warnings import simplefilter\n",
        "# ignore all future warnings\n",
        "simplefilter(action='ignore', category=FutureWarning)\n",
        "\n",
        "import mne.viz\n",
        "\n",
        "\n",
        "alldat = np.load(fname, allow_pickle=True)['dat']\n",
        "\n",
        "\n",
        "\n",
        "rcParams['figure.figsize'] = [20, 4]\n",
        "rcParams['font.size'] = 15\n",
        "rcParams['axes.spines.top'] = False\n",
        "rcParams['axes.spines.right'] = False\n",
        "rcParams['figure.autolayout'] = True"
      ]
    },
    {
      "cell_type": "code",
      "source": [
        "# prompt: targetX = targetX[start_index:]\n",
        "# Do the same for cursor and V\n",
        "\n",
        "# Assuming 'targetX', 'cursor', and 'V' are defined and have the same length\n",
        "start_index = ... # Define the start index\n",
        "\n",
        "targetX = targetX[start_index:]\n",
        "cursor = cursor[start_index:]\n",
        "V = V[start_index:]\n"
      ],
      "metadata": {
        "colab": {
          "base_uri": "https://localhost:8080/",
          "height": 439
        },
        "id": "KYj4-tmNOVYI",
        "outputId": "425af8f8-5668-44ad-b2d4-3f6e72984868"
      },
      "execution_count": 81,
      "outputs": [
        {
          "output_type": "stream",
          "name": "stderr",
          "text": [
            "<>:4: SyntaxWarning: str indices must be integers or slices, not tuple; perhaps you missed a comma?\n",
            "<>:5: SyntaxWarning: str indices must be integers or slices, not tuple; perhaps you missed a comma?\n",
            "<>:6: SyntaxWarning: str indices must be integers or slices, not tuple; perhaps you missed a comma?\n",
            "<>:7: SyntaxWarning: str indices must be integers or slices, not tuple; perhaps you missed a comma?\n",
            "<>:8: SyntaxWarning: str indices must be integers or slices, not tuple; perhaps you missed a comma?\n",
            "<>:4: SyntaxWarning: str indices must be integers or slices, not tuple; perhaps you missed a comma?\n",
            "<>:5: SyntaxWarning: str indices must be integers or slices, not tuple; perhaps you missed a comma?\n",
            "<>:6: SyntaxWarning: str indices must be integers or slices, not tuple; perhaps you missed a comma?\n",
            "<>:7: SyntaxWarning: str indices must be integers or slices, not tuple; perhaps you missed a comma?\n",
            "<>:8: SyntaxWarning: str indices must be integers or slices, not tuple; perhaps you missed a comma?\n",
            "<ipython-input-81-af1b2b799802>:4: SyntaxWarning: str indices must be integers or slices, not tuple; perhaps you missed a comma?\n",
            "  targetX = 'targetX'[:, start_index:]\n"
          ]
        },
        {
          "output_type": "error",
          "ename": "TypeError",
          "evalue": "string indices must be integers",
          "traceback": [
            "\u001b[0;31m---------------------------------------------------------------------------\u001b[0m",
            "\u001b[0;31mTypeError\u001b[0m                                 Traceback (most recent call last)",
            "\u001b[0;32m<ipython-input-81-af1b2b799802>\u001b[0m in \u001b[0;36m<cell line: 4>\u001b[0;34m()\u001b[0m\n\u001b[1;32m      2\u001b[0m \u001b[0;34m\u001b[0m\u001b[0m\n\u001b[1;32m      3\u001b[0m \u001b[0;31m# Assuming start_index is already defined\u001b[0m\u001b[0;34m\u001b[0m\u001b[0;34m\u001b[0m\u001b[0m\n\u001b[0;32m----> 4\u001b[0;31m \u001b[0mtargetX\u001b[0m \u001b[0;34m=\u001b[0m \u001b[0;34m'targetX'\u001b[0m\u001b[0;34m[\u001b[0m\u001b[0;34m:\u001b[0m\u001b[0;34m,\u001b[0m \u001b[0mstart_index\u001b[0m\u001b[0;34m:\u001b[0m\u001b[0;34m]\u001b[0m\u001b[0;34m\u001b[0m\u001b[0;34m\u001b[0m\u001b[0m\n\u001b[0m\u001b[1;32m      5\u001b[0m \u001b[0mtargetY\u001b[0m \u001b[0;34m=\u001b[0m \u001b[0;34m'targetY'\u001b[0m\u001b[0;34m[\u001b[0m\u001b[0;34m:\u001b[0m\u001b[0;34m,\u001b[0m \u001b[0mstart_index\u001b[0m\u001b[0;34m:\u001b[0m\u001b[0;34m]\u001b[0m\u001b[0;34m\u001b[0m\u001b[0;34m\u001b[0m\u001b[0m\n\u001b[1;32m      6\u001b[0m \u001b[0mcursorX\u001b[0m \u001b[0;34m=\u001b[0m \u001b[0;34m'cursorX'\u001b[0m\u001b[0;34m[\u001b[0m\u001b[0;34m:\u001b[0m\u001b[0;34m,\u001b[0m \u001b[0mstart_index\u001b[0m\u001b[0;34m:\u001b[0m\u001b[0;34m]\u001b[0m\u001b[0;34m\u001b[0m\u001b[0;34m\u001b[0m\u001b[0m\n",
            "\u001b[0;31mTypeError\u001b[0m: string indices must be integers"
          ]
        }
      ]
    },
    {
      "cell_type": "code",
      "source": [
        "subjID = 1 #@param {type:\"number\"}\n",
        "print(\"Subjet Chosen:\", subjID)\n",
        "subject=alldat[0][subjID] #data contains data for the subject\n",
        "subj_name = str('subject '+ str(subjID))\n",
        "\n",
        "V = subj['V'].astype('float32')\n",
        "targetX = subj['targetX'].flatten()   # np array 1D\n",
        "targetY = subj['targetY'].flatten()   # np array 1D\n",
        "cursorX = subj['cursorX'].flatten()   # np array 1D\n",
        "cursorY = subj['cursorY'].flatten()   # np array 1D\n",
        "locs    = subj['locs']                # [[a1 b1 c1] [a2 b2 c2] ... [a60 b60 c60]]\n",
        "hemisphere = subj['hemisphere']       # list of strings\n",
        "lobe = subj['lobe']                   # ...\n",
        "gyrus = subj['gyrus']                 # ...\n",
        "Brodmann_Area = subj['Brodmann_Area'] # ...\n",
        "\n",
        "for i in range(len(targetX)):\n",
        "  if targetX[i]==np.max(targetX):\n",
        "    start_index=i\n",
        "    break\n",
        "\n",
        "targetX = targetX[start_index:]\n",
        "targetY=targetY[start_index:]\n",
        "cursorX = cursorX[start_index:]\n",
        "cursorY\n",
        "V = V[start_index:]\n",
        "\n",
        "data = V.T\n",
        "n_channels = V.shape[1]\n",
        "sampling_freq = 1000  # in Hertz\n",
        "ch_types = ['ecog']*n_channels\n",
        "ch_names = ['chan'+str(channel) for channel in list(range(n_channels))]\n",
        "\n",
        "info = mne.create_info(ch_names, sfreq=sampling_freq, ch_types='ecog', verbose=None)\n",
        "\n",
        "raw = mne.io.RawArray(data, info)\n",
        "print(raw.info)"
      ],
      "metadata": {
        "colab": {
          "base_uri": "https://localhost:8080/"
        },
        "id": "aFknk-hYGPgx",
        "outputId": "efb87ce7-e042-4c57-f670-45814486904f"
      },
      "execution_count": 82,
      "outputs": [
        {
          "output_type": "stream",
          "name": "stdout",
          "text": [
            "Subjet Chosen: 1\n",
            "Creating RawArray with float64 data, n_channels=64, n_times=246440\n",
            "    Range : 0 ... 246439 =      0.000 ...   246.439 secs\n",
            "Ready.\n",
            "<Info | 7 non-empty values\n",
            " bads: []\n",
            " ch_names: chan0, chan1, chan2, chan3, chan4, chan5, chan6, chan7, chan8, ...\n",
            " chs: 64 ECoG\n",
            " custom_ref_applied: False\n",
            " highpass: 0.0 Hz\n",
            " lowpass: 500.0 Hz\n",
            " meas_date: unspecified\n",
            " nchan: 64\n",
            " projs: []\n",
            " sfreq: 1000.0 Hz\n",
            ">\n"
          ]
        }
      ]
    },
    {
      "cell_type": "code",
      "source": [
        "for i in range(len(targetX)):\n",
        "  if targetX[i]==np.max(targetX):\n",
        "    start_index=i\n",
        "    break\n"
      ],
      "metadata": {
        "id": "NsxH0fldHCrk"
      },
      "execution_count": 64,
      "outputs": []
    },
    {
      "cell_type": "code",
      "source": [
        "V.shape"
      ],
      "metadata": {
        "colab": {
          "base_uri": "https://localhost:8080/"
        },
        "id": "FO3eKRUSrsKF",
        "outputId": "1898e870-5783-476c-d56b-b1b27beabd24"
      },
      "execution_count": 83,
      "outputs": [
        {
          "output_type": "execute_result",
          "data": {
            "text/plain": [
              "(246440, 64)"
            ]
          },
          "metadata": {},
          "execution_count": 83
        }
      ]
    },
    {
      "cell_type": "code",
      "source": [],
      "metadata": {
        "id": "aGH3yygMruL-"
      },
      "execution_count": null,
      "outputs": []
    },
    {
      "cell_type": "code",
      "source": [
        "# @title Filtering Data\n",
        "# -----Add filter logic----\n",
        "def get_filtered_raw(raw):\n",
        "  raw_filtered = raw.copy().notch_filter(freqs=np.arange(60, 241, 60), picks=['ecog'])\n",
        "  raw_filtered = raw_filtered.filter(l_freq=0.1, h_freq=30, picks=['ecog'])\n",
        "  return raw_filtered\n"
      ],
      "metadata": {
        "id": "JHFaKUOa6fdG"
      },
      "execution_count": 84,
      "outputs": []
    },
    {
      "cell_type": "code",
      "source": [
        "raw_filtered=get_filtered_raw(raw)\n",
        "filtered_data=raw_filtered.get_data()\n",
        "filtered_V=filtered_data.T"
      ],
      "metadata": {
        "colab": {
          "base_uri": "https://localhost:8080/"
        },
        "collapsed": true,
        "id": "Ij_r2EArGQU0",
        "outputId": "bd527e51-15c7-43e0-8bcb-fe1e08428384"
      },
      "execution_count": 85,
      "outputs": [
        {
          "output_type": "stream",
          "name": "stdout",
          "text": [
            "Filtering raw data in 1 contiguous segment\n",
            "Setting up band-stop filter\n",
            "\n",
            "FIR filter parameters\n",
            "---------------------\n",
            "Designing a one-pass, zero-phase, non-causal bandstop filter:\n",
            "- Windowed time-domain design (firwin) method\n",
            "- Hamming window with 0.0194 passband ripple and 53 dB stopband attenuation\n",
            "- Lower transition bandwidth: 0.50 Hz\n",
            "- Upper transition bandwidth: 0.50 Hz\n",
            "- Filter length: 6601 samples (6.601 s)\n",
            "\n"
          ]
        },
        {
          "output_type": "stream",
          "name": "stderr",
          "text": [
            "[Parallel(n_jobs=1)]: Done  17 tasks      | elapsed:    0.3s\n"
          ]
        },
        {
          "output_type": "stream",
          "name": "stdout",
          "text": [
            "Filtering raw data in 1 contiguous segment\n",
            "Setting up band-pass filter from 0.1 - 30 Hz\n",
            "\n",
            "FIR filter parameters\n",
            "---------------------\n",
            "Designing a one-pass, zero-phase, non-causal bandpass filter:\n",
            "- Windowed time-domain design (firwin) method\n",
            "- Hamming window with 0.0194 passband ripple and 53 dB stopband attenuation\n",
            "- Lower passband edge: 0.10\n",
            "- Lower transition bandwidth: 0.10 Hz (-6 dB cutoff frequency: 0.05 Hz)\n",
            "- Upper passband edge: 30.00 Hz\n",
            "- Upper transition bandwidth: 7.50 Hz (-6 dB cutoff frequency: 33.75 Hz)\n",
            "- Filter length: 33001 samples (33.001 s)\n",
            "\n"
          ]
        },
        {
          "output_type": "stream",
          "name": "stderr",
          "text": [
            "[Parallel(n_jobs=1)]: Done  17 tasks      | elapsed:    0.6s\n"
          ]
        }
      ]
    },
    {
      "cell_type": "code",
      "source": [
        "from scipy.io import loadmat\n",
        "# Load the MATLAB file using scipy.io.loadmat\n",
        "mat_data = loadmat(\"fp_joystick.mat\")\n",
        "\n",
        "# Now you can access the variables in the MATLAB file\n",
        "print(mat_data.keys())"
      ],
      "metadata": {
        "colab": {
          "base_uri": "https://localhost:8080/"
        },
        "id": "Khi2z-xWH2Dt",
        "outputId": "5f0d2596-e9c6-40c7-87ec-f5da0dbf246f"
      },
      "execution_count": 37,
      "outputs": [
        {
          "output_type": "stream",
          "name": "stdout",
          "text": [
            "dict_keys(['__header__', '__version__', '__globals__', 'CursorPosX', 'CursorPosY', 'TargetPosX', 'TargetPosY', 'subject', 'electrodes', 'data'])\n"
          ]
        }
      ]
    },
    {
      "cell_type": "code",
      "source": [],
      "metadata": {
        "id": "XHUGQPGCrqHq"
      },
      "execution_count": null,
      "outputs": []
    },
    {
      "cell_type": "code",
      "source": [
        "\n",
        "\n",
        "sfreq = 1000  # Sampling frequency in Hz\n",
        "\n",
        "\n",
        "\n",
        "# Define parameters\n",
        "epoch_length = int(6300) # Number of time points per epoch\n",
        "\n",
        "# Define start points for each epoch\n",
        "epoch_start_points = np.arange(start_point, data.shape[1] - epoch_length, epoch_length)\n",
        "\n",
        "# Extract epochs\n",
        "epochs_list = []\n",
        "for start in epoch_start_points:\n",
        "    end = start + epoch_length\n",
        "    epoch_data = raw_filtered.get_data(start=start, stop=end)\n",
        "    epochs_list.append(epoch_data)\n",
        "\n",
        "# Convert to numpy array\n",
        "epochs_data = np.array(epochs_list)\n",
        "print(f'Epochs data shape: {epochs_data.shape}')\n"
      ],
      "metadata": {
        "colab": {
          "base_uri": "https://localhost:8080/"
        },
        "id": "zW9vYZUiPz9k",
        "outputId": "d992da51-babb-442e-fdc6-3d6d9551e749"
      },
      "execution_count": 43,
      "outputs": [
        {
          "output_type": "stream",
          "name": "stdout",
          "text": [
            "Epochs data shape: (39, 64, 6300)\n"
          ]
        }
      ]
    },
    {
      "cell_type": "code",
      "source": [
        "\n",
        "def sample_indices(seq, starting_index, k):\n",
        "  resulted_seq = seq[starting_index::k]\n",
        "  n = int(len(seq))\n",
        "  index_list = list((np.arange(n)*k)[:len(resulted_seq)])\n",
        "  return resulted_seq, index_list\n",
        "\n",
        "\n",
        "def plot_mvmt_trajectory(xs, ys, spacing_index, title):\n",
        "    # Sample indices and values\n",
        "    xs_seq_val = sample_indices(xs, 0, spacing_index)[0]\n",
        "    ys_seq_val = sample_indices(ys, 0, spacing_index)[0]\n",
        "    indices = sample_indices(ys, 0, spacing_index)[1]\n",
        "    print('Number of sampled points from sequences:', len(indices))\n",
        "\n",
        "    # Calculate the x-coordinate for the vertical line\n",
        "\n",
        "    # Create plot\n",
        "    plt.figure()\n",
        "    ax = plt.axes(aspect=1)\n",
        "    ax.scatter(xs_seq_val, ys_seq_val, c=indices, s=2)\n",
        "    ax.set_xlim(-2000, 34500)\n",
        "    ax.set_ylim(-2000, 34500)\n",
        "    ax.set_title(title)\n",
        "\n",
        "    # Add vertical line\n",
        "    # Add legend\n",
        "    plt.legend()\n",
        "\n",
        "    # Show plot\n",
        "\n",
        "    plt.show()\n",
        "\n",
        "\n",
        "def plot_mvmt_trajectories_compare(xs_target, ys_target, xs_cursor, ys_cursor, spacing_index, title):\n",
        "    # Sample the target trajectory\n",
        "    xs_target_seq, target_indices = sample_indices(xs_target, 0, spacing_index)\n",
        "    ys_target_seq = sample_indices(ys_target, 0, spacing_index)[0]\n",
        "\n",
        "    # Sample the cursor trajectory\n",
        "    xs_cursor_seq, cursor_indices = sample_indices(xs_cursor, 0, spacing_index)\n",
        "    ys_cursor_seq = sample_indices(ys_cursor, 0, spacing_index)[0]\n",
        "\n",
        "\n",
        "\n",
        "    # Create the plot\n",
        "    plt.figure(figsize=(6, 6))\n",
        "    ax = plt.axes(aspect=1)\n",
        "    ax.scatter(xs_target_seq, ys_target_seq, c=target_indices, s=2, label='Target Trajectory', cmap='Blues')\n",
        "    ax.scatter(xs_cursor_seq, ys_cursor_seq, c=cursor_indices, s=2, label='Cursor Trajectory', cmap='Reds')\n",
        "    ax.set_xlim(-2000, 34500)\n",
        "    ax.set_ylim(-2000, 34500)\n",
        "    ax.set_title(title)\n",
        "    ax.legend()\n",
        "    plt.show()\n"
      ],
      "metadata": {
        "id": "c7UWA-32S7x0"
      },
      "execution_count": 59,
      "outputs": []
    },
    {
      "cell_type": "code",
      "source": [
        "\n",
        "start_point = start_index+6300+2200\n",
        "end_point = start_point+6300\n",
        "\n",
        "\n",
        "xs_target = targetX[start_point:end_point]\n",
        "ys_target = targetY[start_point:end_point]\n",
        "plot_mvmt_trajectory(xs_target, ys_target, spacing_index=1, title = 'Target trajectory')\n",
        "\n",
        "# xs_target = targetX[13480:19140]\n",
        "# ys_target = targetY[13480:19140]\n",
        "# plot_mvmt_trajectory(xs_target, ys_target, spacing_index=1, title = 'Target trajectory')\n",
        "\n",
        "\n",
        "xs_cursor = cursorX[start_point:end_point]\n",
        "ys_cursor = cursorY[start_point:end_point]\n",
        "plot_mvmt_trajectory(xs_cursor, ys_cursor, spacing_index=50, title = 'cursor trajectory')\n",
        "\n",
        "\n",
        "plot_mvmt_trajectories_compare(xs_target, ys_target, xs_cursor, ys_cursor, spacing_index=50, title = 'Compare trajectory')\n"
      ],
      "metadata": {
        "colab": {
          "base_uri": "https://localhost:8080/",
          "height": 1000
        },
        "id": "JBT-JkySjQU7",
        "outputId": "46b96b45-930a-4c4b-d7fa-786716bbe620"
      },
      "execution_count": 67,
      "outputs": [
        {
          "output_type": "stream",
          "name": "stderr",
          "text": [
            "WARNING:matplotlib.legend:No artists with labels found to put in legend.  Note that artists whose label start with an underscore are ignored when legend() is called with no argument.\n"
          ]
        },
        {
          "output_type": "stream",
          "name": "stdout",
          "text": [
            "Number of sampled points from sequences: 6300\n"
          ]
        },
        {
          "output_type": "display_data",
          "data": {
            "text/plain": [
              "<Figure size 2000x400 with 1 Axes>"
            ],
            "image/png": "[encoded data removed]"
          },
          "metadata": {}
        },
        {
          "output_type": "stream",
          "name": "stderr",
          "text": [
            "WARNING:matplotlib.legend:No artists with labels found to put in legend.  Note that artists whose label start with an underscore are ignored when legend() is called with no argument.\n"
          ]
        },
        {
          "output_type": "stream",
          "name": "stdout",
          "text": [
            "Number of sampled points from sequences: 126\n"
          ]
        },
        {
          "output_type": "display_data",
          "data": {
            "text/plain": [
              "<Figure size 2000x400 with 1 Axes>"
            ],
            "image/png": "[encoded data removed]"
          },
          "metadata": {}
        },
        {
          "output_type": "display_data",
          "data": {
            "text/plain": [
              "<Figure size 600x600 with 1 Axes>"
            ],
            "image/png": "[encoded data removed]"
          },
          "metadata": {}
        }
      ]
    },
    {
      "cell_type": "code",
      "source": [
        "# Define events\n",
        "# For example, creating events at the start points with event_id=1\n",
        "events = np.array([[start_index, 1, epoch_length] for start in epoch_start_points])\n",
        "event_id = {'trial': 1}\n"
      ],
      "metadata": {
        "id": "GS3bjJtToyQJ"
      },
      "execution_count": 68,
      "outputs": []
    },
    {
      "cell_type": "code",
      "source": [
        "events[0][:]\n"
      ],
      "metadata": {
        "colab": {
          "base_uri": "https://localhost:8080/"
        },
        "id": "TQhd_uObo_EK",
        "outputId": "b0eb4c23-48de-46f8-ff78-cd5b568eedf7"
      },
      "execution_count": 78,
      "outputs": [
        {
          "output_type": "execute_result",
          "data": {
            "text/plain": [
              "array([2200,    1, 6300])"
            ]
          },
          "metadata": {},
          "execution_count": 78
        }
      ]
    },
    {
      "cell_type": "code",
      "source": [
        "import numpy as np\n",
        "import mne\n",
        "from mne import create_info\n",
        "\n",
        "# Example data\n",
        "sfreq = 1000  # Sampling frequency in Hz\n",
        "subjID = 1\n",
        "print(\"Subject Chosen:\", subjID)\n",
        "subj = alldat[0][subjID]  # data contains data for the subject\n",
        "subj_name = 'subject ' + str(subjID)\n",
        "\n",
        "V = subj['V'].astype('float32')\n",
        "targetX = subj['targetX'].flatten()   # np array 1D\n",
        "targetY = subj['targetY'].flatten()   # np array 1D\n",
        "cursorX = subj['cursorX'].flatten()   # np array 1D\n",
        "cursorY = subj['cursorY'].flatten()   # np array 1D\n",
        "locs = subj['locs']                # [[a1 b1 c1] [a2 b2 c2] ... [a60 b60 c60]]\n",
        "hemisphere = subj['hemisphere']    # list of strings\n",
        "lobe = subj['lobe']                # ...\n",
        "gyrus = subj['gyrus']              # ...\n",
        "Brodmann_Area = subj['Brodmann_Area'] # ...\n",
        "\n",
        "# Prepare MNE Raw object\n",
        "data = V.T\n",
        "n_channels = V.shape[1]\n",
        "ch_types = ['ecog'] * n_channels\n",
        "ch_names = ['chan' + str(channel) for channel in range(n_channels)]\n",
        "picks = mne.pick_channels(raw.info['ch_names'], include=raw.info['ch_names'][:n_channels])  # Adjust to your channels\n",
        "\n",
        "info = mne.create_info(ch_names, sfreq=sfreq, ch_types='ecog', verbose=None)\n",
        "raw = mne.io.RawArray(data, info)\n",
        "print(raw.info)\n",
        "\n",
        "# Define parameters\n",
        "epoch_length = 6300  # Number of time points per epoch\n",
        "start_point = start_index   # Starting point for the first epoch\n",
        "\n",
        "# Define events\n",
        "events = np.array([[start, 1, epoch_length] for start in epoch_start_points])\n",
        "event_id = {'trial': 1}\n",
        "\n",
        "# Create epochs\n",
        "epochs = mne.Epochs(raw, events, event_id=None,picks=picks, tmin=0, tmax=epoch_length / sfreq, baseline=None, event_repeated='', detrend=1)\n",
        "\n",
        "# Access epoch data\n",
        "epochs_data = epochs.get_data()  # Shape: (n_epochs, n_channels, n_times)\n",
        "print(f'Epochs data shape: {epochs_data.shape}')\n"
      ],
      "metadata": {
        "colab": {
          "base_uri": "https://localhost:8080/"
        },
        "id": "VgAcIOW5lDvz",
        "outputId": "19d6fd11-c3e3-42b7-dcea-a34b98b5a77e"
      },
      "execution_count": 86,
      "outputs": [
        {
          "output_type": "stream",
          "name": "stdout",
          "text": [
            "Subject Chosen: 1\n",
            "Creating RawArray with float64 data, n_channels=64, n_times=248640\n",
            "    Range : 0 ... 248639 =      0.000 ...   248.639 secs\n",
            "Ready.\n",
            "<Info | 7 non-empty values\n",
            " bads: []\n",
            " ch_names: chan0, chan1, chan2, chan3, chan4, chan5, chan6, chan7, chan8, ...\n",
            " chs: 64 ECoG\n",
            " custom_ref_applied: False\n",
            " highpass: 0.0 Hz\n",
            " lowpass: 500.0 Hz\n",
            " meas_date: unspecified\n",
            " nchan: 64\n",
            " projs: []\n",
            " sfreq: 1000.0 Hz\n",
            ">\n",
            "Not setting metadata\n",
            "39 matching events found\n",
            "No baseline correction applied\n",
            "0 projection items activated\n",
            "Using data from preloaded Raw for 39 events and 6301 original time points ...\n",
            "0 bad epochs dropped\n",
            "Epochs data shape: (39, 64, 6301)\n"
          ]
        }
      ]
    },
    {
      "cell_type": "code",
      "source": [
        "X = epochs.get_data(copy=False)"
      ],
      "metadata": {
        "colab": {
          "base_uri": "https://localhost:8080/"
        },
        "id": "fNzEkPG5pqFS",
        "outputId": "0355a2c5-b80d-4b3e-e151-aa2c8279b830"
      },
      "execution_count": 87,
      "outputs": [
        {
          "output_type": "stream",
          "name": "stdout",
          "text": [
            "Using data from preloaded Raw for 39 events and 6301 original time points ...\n"
          ]
        }
      ]
    },
    {
      "cell_type": "code",
      "source": [
        "from sklearn.decomposition import PCA, FastICA\n",
        "from mne.decoding import UnsupervisedSpatialFilter\n"
      ],
      "metadata": {
        "id": "Qp8IzMEYuM6f"
      },
      "execution_count": 89,
      "outputs": []
    },
    {
      "cell_type": "code",
      "source": [
        "pca = UnsupervisedSpatialFilter(PCA(10), average=False)\n",
        "pca_data = pca.fit_transform(X)\n",
        "ev = mne.EvokedArray(\n",
        "    np.mean(pca_data, axis=0),\n",
        "    mne.create_info(10, sfreq, ch_types=ch_types, verbose=None),\n",
        "    tmin=0,\n",
        ")\n",
        "ev.plot(show=False, window_title=\"PCA\", time_unit=\"s\")"
      ],
      "metadata": {
        "id": "p2UITM41rfWB"
      },
      "execution_count": null,
      "outputs": []
    },
    {
      "cell_type": "code",
      "source": [
        "ch_types = ['ecog']*n_channels\n",
        "ch_names = ['chan'+str(channel) for channel in list(range(n_channels))]\n",
        "print(ch_types)\n",
        "print(ch_names)"
      ],
      "metadata": {
        "colab": {
          "base_uri": "https://localhost:8080/"
        },
        "id": "gEIyvWJNvvH_",
        "outputId": "1c430e0a-ae45-4320-f03f-433e56c79c33"
      },
      "execution_count": 97,
      "outputs": [
        {
          "output_type": "stream",
          "name": "stdout",
          "text": [
            "['ecog', 'ecog', 'ecog', 'ecog', 'ecog', 'ecog', 'ecog', 'ecog', 'ecog', 'ecog', 'ecog', 'ecog', 'ecog', 'ecog', 'ecog', 'ecog', 'ecog', 'ecog', 'ecog', 'ecog', 'ecog', 'ecog', 'ecog', 'ecog', 'ecog', 'ecog', 'ecog', 'ecog', 'ecog', 'ecog', 'ecog', 'ecog', 'ecog', 'ecog', 'ecog', 'ecog', 'ecog', 'ecog', 'ecog', 'ecog', 'ecog', 'ecog', 'ecog', 'ecog', 'ecog', 'ecog', 'ecog', 'ecog', 'ecog', 'ecog', 'ecog', 'ecog', 'ecog', 'ecog', 'ecog', 'ecog', 'ecog', 'ecog', 'ecog', 'ecog', 'ecog', 'ecog', 'ecog', 'ecog']\n",
            "['chan0', 'chan1', 'chan2', 'chan3', 'chan4', 'chan5', 'chan6', 'chan7', 'chan8', 'chan9', 'chan10', 'chan11', 'chan12', 'chan13', 'chan14', 'chan15', 'chan16', 'chan17', 'chan18', 'chan19', 'chan20', 'chan21', 'chan22', 'chan23', 'chan24', 'chan25', 'chan26', 'chan27', 'chan28', 'chan29', 'chan30', 'chan31', 'chan32', 'chan33', 'chan34', 'chan35', 'chan36', 'chan37', 'chan38', 'chan39', 'chan40', 'chan41', 'chan42', 'chan43', 'chan44', 'chan45', 'chan46', 'chan47', 'chan48', 'chan49', 'chan50', 'chan51', 'chan52', 'chan53', 'chan54', 'chan55', 'chan56', 'chan57', 'chan58', 'chan59', 'chan60', 'chan61', 'chan62', 'chan63']\n"
          ]
        }
      ]
    },
    {
      "cell_type": "code",
      "source": [
        "ica = UnsupervisedSpatialFilter(FastICA(30, whiten=\"unit-variance\"), average=False)\n",
        "ica_data = ica.fit_transform(X)\n",
        "ev1 = mne.EvokedArray(\n",
        "    np.mean(ica_data, axis=0),\n",
        "    mne.create_info(ch_names, sfreq=sampling_freq, ch_types='ecog', verbose=None),\n",
        "    tmin=0,\n",
        ")\n",
        "ev1.plot(show=False, window_title=\"ICA\", time_unit=\"s\")\n",
        "\n",
        "plt.show()"
      ],
      "metadata": {
        "id": "8-nGj4tjuH3u"
      },
      "execution_count": null,
      "outputs": []
    },
    {
      "cell_type": "code",
      "source": [],
      "metadata": {
        "id": "q87KmnUIv0XA"
      },
      "execution_count": null,
      "outputs": []
    }
  ]
}