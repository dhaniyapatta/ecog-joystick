{
  "nbformat": 4,
  "nbformat_minor": 0,
  "metadata": {
    "colab": {
      "provenance": [],
      "authorship_tag": "ABX9TyM4Z1dupwv7f0j72PSoIkY5",
      "include_colab_link": true
    },
    "kernelspec": {
      "name": "python3",
      "display_name": "Python 3"
    },
    "language_info": {
      "name": "python"
    }
  },
  "cells": [
    {
      "cell_type": "markdown",
      "metadata": {
        "id": "view-in-github",
        "colab_type": "text"
      },
      "source": [
        "<a href=\"https://colab.research.google.com/github/dhaniyapatta/ecog-joystick/blob/main/connectivity_ecog.ipynb\" target=\"_parent\"><img src=\"https://colab.research.google.com/assets/colab-badge.svg\" alt=\"Open In Colab\"/></a>"
      ]
    },
    {
      "cell_type": "code",
      "execution_count": 1,
      "metadata": {
        "colab": {
          "base_uri": "https://localhost:8080/"
        },
        "id": "4IKbpKqX0Aas",
        "outputId": "6d6188a6-7564-4dc7-8c71-d1bc88d10675"
      },
      "outputs": [
        {
          "output_type": "stream",
          "name": "stdout",
          "text": [
            "\u001b[2K   \u001b[90m━━━━━━━━━━━━━━━━━━━━━━━━━━━━━━━━━━━━━━━━\u001b[0m \u001b[32m10.4/10.4 MB\u001b[0m \u001b[31m34.5 MB/s\u001b[0m eta \u001b[36m0:00:00\u001b[0m\n",
            "\u001b[2K   \u001b[90m━━━━━━━━━━━━━━━━━━━━━━━━━━━━━━━━━━━━━━━━\u001b[0m \u001b[32m13.3/13.3 MB\u001b[0m \u001b[31m35.0 MB/s\u001b[0m eta \u001b[36m0:00:00\u001b[0m\n",
            "\u001b[2K   \u001b[90m━━━━━━━━━━━━━━━━━━━━━━━━━━━━━━━━━━━━━━━━\u001b[0m \u001b[32m237.3/237.3 kB\u001b[0m \u001b[31m17.2 MB/s\u001b[0m eta \u001b[36m0:00:00\u001b[0m\n",
            "\u001b[2K   \u001b[90m━━━━━━━━━━━━━━━━━━━━━━━━━━━━━━━━━━━━━━━━\u001b[0m \u001b[32m49.0/49.0 kB\u001b[0m \u001b[31m3.6 MB/s\u001b[0m eta \u001b[36m0:00:00\u001b[0m\n",
            "\u001b[2K   \u001b[90m━━━━━━━━━━━━━━━━━━━━━━━━━━━━━━━━━━━━━━━━\u001b[0m \u001b[32m90.6/90.6 kB\u001b[0m \u001b[31m7.3 MB/s\u001b[0m eta \u001b[36m0:00:00\u001b[0m\n",
            "\u001b[2K   \u001b[90m━━━━━━━━━━━━━━━━━━━━━━━━━━━━━━━━━━━━━━━━\u001b[0m \u001b[32m179.9/179.9 kB\u001b[0m \u001b[31m11.5 MB/s\u001b[0m eta \u001b[36m0:00:00\u001b[0m\n",
            "\u001b[2K   \u001b[90m━━━━━━━━━━━━━━━━━━━━━━━━━━━━━━━━━━━━━━━━\u001b[0m \u001b[32m7.4/7.4 MB\u001b[0m \u001b[31m53.8 MB/s\u001b[0m eta \u001b[36m0:00:00\u001b[0m\n",
            "\u001b[2K   \u001b[90m━━━━━━━━━━━━━━━━━━━━━━━━━━━━━━━━━━━━━━━━\u001b[0m \u001b[32m115.2/115.2 kB\u001b[0m \u001b[31m7.4 MB/s\u001b[0m eta \u001b[36m0:00:00\u001b[0m\n",
            "\u001b[2K   \u001b[90m━━━━━━━━━━━━━━━━━━━━━━━━━━━━━━━━━━━━━━━━\u001b[0m \u001b[32m9.0/9.0 MB\u001b[0m \u001b[31m55.5 MB/s\u001b[0m eta \u001b[36m0:00:00\u001b[0m\n",
            "\u001b[2K   \u001b[90m━━━━━━━━━━━━━━━━━━━━━━━━━━━━━━━━━━━━━━━━\u001b[0m \u001b[32m1.2/1.2 MB\u001b[0m \u001b[31m44.5 MB/s\u001b[0m eta \u001b[36m0:00:00\u001b[0m\n",
            "\u001b[2K   \u001b[90m━━━━━━━━━━━━━━━━━━━━━━━━━━━━━━━━━━━━━━━━\u001b[0m \u001b[32m1.3/1.3 MB\u001b[0m \u001b[31m52.8 MB/s\u001b[0m eta \u001b[36m0:00:00\u001b[0m\n",
            "\u001b[?25h"
          ]
        }
      ],
      "source": [
        "#@title Data retrieval\n",
        "import os, requests\n",
        "\n",
        "fname = 'joystick_track.npz'\n",
        "url = \"https://osf.io/6jncm/download\"\n",
        "\n",
        "if not os.path.isfile(fname):\n",
        "  try:\n",
        "    r = requests.get(url)\n",
        "  except requests.ConnectionError:\n",
        "    print(\"!!! Failed to download data !!!\")\n",
        "  else:\n",
        "    if r.status_code != requests.codes.ok:\n",
        "      print(\"!!! Failed to download data !!!\")\n",
        "    else:\n",
        "      with open(fname, \"wb\") as fid:\n",
        "        fid.write(r.content)\n",
        "\n",
        "\n",
        "# @title Install packages (`nilearn`, `nimare`. `duecredit`), import `matplotlib` and set defaults\n",
        "# install packages to visualize brains and electrode locations\n",
        "!pip install nilearn --quiet\n",
        "!pip install nimare --quiet\n",
        "!pip install duecredit --quiet\n",
        "!pip install mne --quiet\n",
        "!pip install mne_connectivity --quiet\n",
        "\n",
        "from matplotlib import rcParams\n",
        "from matplotlib import pyplot as plt\n",
        "import numpy as np\n",
        "from nilearn import plotting\n",
        "from nimare import utils\n",
        "\n",
        "import mne\n",
        "# For elimiating warnings\n",
        "from warnings import simplefilter\n",
        "# ignore all future warnings\n",
        "simplefilter(action='ignore', category=FutureWarning)\n",
        "\n",
        "import mne.viz\n",
        "from mne_connectivity import spectral_connectivity_epochs, spectral_connectivity_time\n",
        "from mne_connectivity.viz import plot_sensors_connectivity\n",
        "\n",
        "alldat = np.load(fname, allow_pickle=True)['dat']\n",
        "\n",
        "\n",
        "\n",
        "rcParams['figure.figsize'] = [20, 4]\n",
        "rcParams['font.size'] = 15\n",
        "rcParams['axes.spines.top'] = False\n",
        "rcParams['axes.spines.right'] = False\n",
        "rcParams['figure.autolayout'] = True"
      ]
    },
    {
      "cell_type": "code",
      "source": [
        "subjID = 1 #@param {type:\"number\"}\n",
        "print(\"Subjet Chosen:\", subjID)\n",
        "subj=alldat[0][subjID] #data contains data for the subject\n",
        "subj_name = str('subject '+ str(subjID))\n",
        "\n",
        "V = subj['V'].astype('float32')\n",
        "targetX = subj['targetX'].flatten()   # np array 1D\n",
        "targetY = subj['targetY'].flatten()   # np array 1D\n",
        "cursorX = subj['cursorX'].flatten()   # np array 1D\n",
        "cursorY = subj['cursorY'].flatten()   # np array 1D\n",
        "locs    = subj['locs']                # [[a1 b1 c1] [a2 b2 c2] ... [a60 b60 c60]]\n",
        "hemisphere = subj['hemisphere']       # list of strings\n",
        "lobe = subj['lobe']                   # ...\n",
        "gyrus = subj['gyrus']                 # ...\n",
        "Brodmann_Area = subj['Brodmann_Area'] # ...\n",
        "\n",
        "for i in range(len(targetX)):\n",
        "  if targetX[i]==np.max(targetX):\n",
        "    start_index=i\n",
        "    break\n",
        "\n",
        "targetX = targetX[start_index:]\n",
        "targetY=targetY[start_index:]\n",
        "cursorX = cursorX[start_index:]\n",
        "cursorY\n",
        "V = V[start_index:]\n",
        "\n",
        "data = V.T\n",
        "n_channels = V.shape[1]\n",
        "sampling_freq = 1000  # in Hertz\n",
        "ch_types = ['ecog']*n_channels\n",
        "ch_names = ['chan'+str(channel) for channel in list(range(n_channels))]\n",
        "\n",
        "info = mne.create_info(ch_names, sfreq=sampling_freq, ch_types='ecog', verbose=None)\n",
        "\n",
        "raw = mne.io.RawArray(data, info)\n",
        "\n",
        "\n",
        "\n",
        "\n",
        "channel_names = ch_names\n",
        "channel_coords = locs\n",
        "\n",
        "# Ensure the channel coordinates are in meters\n",
        "channel_coords_meters = channel_coords / 1000.0  # Convert mm to meters if needed\n",
        "\n",
        "# Create a dictionary mapping channel names to coordinates\n",
        "montage_dict = dict(zip(channel_names, channel_coords_meters))\n",
        "\n",
        "# Create the montage\n",
        "montage = mne.channels.make_dig_montage(ch_pos=montage_dict, coord_frame='head', )\n",
        "\n",
        "# Set he montage to the raw data\n",
        "raw.set_montage(montage)\n",
        "\n",
        "# Verify by plotting sensor locations\n",
        "raw.plot_sensors(kind='topomap', show_names=True)\n",
        "\n",
        "print(raw.info)"
      ],
      "metadata": {
        "colab": {
          "base_uri": "https://localhost:8080/",
          "height": 1000
        },
        "id": "TOTy_zBe0IYA",
        "outputId": "458800ac-a147-4a2f-fe1a-724d07b8ca58"
      },
      "execution_count": 2,
      "outputs": [
        {
          "output_type": "stream",
          "name": "stdout",
          "text": [
            "Subjet Chosen: 1\n",
            "Creating RawArray with float64 data, n_channels=64, n_times=246440\n",
            "    Range : 0 ... 246439 =      0.000 ...   246.439 secs\n",
            "Ready.\n"
          ]
        },
        {
          "output_type": "display_data",
          "data": {
            "text/plain": [
              "<Figure size 2000x2000 with 1 Axes>"
            ],
            "image/png": "[encoded data removed]"
          },
          "metadata": {}
        },
        {
          "output_type": "stream",
          "name": "stdout",
          "text": [
            "<Info | 8 non-empty values\n",
            " bads: []\n",
            " ch_names: chan0, chan1, chan2, chan3, chan4, chan5, chan6, chan7, chan8, ...\n",
            " chs: 64 ECoG\n",
            " custom_ref_applied: False\n",
            " dig: 67 items (3 Cardinal, 64 EEG)\n",
            " highpass: 0.0 Hz\n",
            " lowpass: 500.0 Hz\n",
            " meas_date: unspecified\n",
            " nchan: 64\n",
            " projs: []\n",
            " sfreq: 1000.0 Hz\n",
            ">\n"
          ]
        }
      ]
    },
    {
      "cell_type": "code",
      "source": [
        "epochs = mne.make_fixed_length_epochs(raw, duration=1.5, preload=False)"
      ],
      "metadata": {
        "colab": {
          "base_uri": "https://localhost:8080/"
        },
        "id": "jEVrUKFe0R6q",
        "outputId": "92d36e52-9238-4af6-e2ba-26dac8273894"
      },
      "execution_count": 5,
      "outputs": [
        {
          "output_type": "stream",
          "name": "stdout",
          "text": [
            "Not setting metadata\n",
            "164 matching events found\n",
            "No baseline correction applied\n",
            "0 projection items activated\n"
          ]
        }
      ]
    },
    {
      "cell_type": "code",
      "source": [
        "sfreq = epochs.info[\"sfreq\"]  # the sampling frequency\n",
        "tmin = 0.0  # exclude the baseline period for connectivity estimation\n",
        "Freq_Bands = {\"theta\": [4.0, 8.0]}  # frequency of interest\n",
        "n_freq_bands = len(Freq_Bands)\n",
        "min_freq = np.min(list(Freq_Bands.values()))\n",
        "max_freq = np.max(list(Freq_Bands.values()))\n",
        "\n",
        "# Prepare the freq points\n",
        "freqs = np.linspace(min_freq, max_freq, int((max_freq - min_freq) * 4 + 1))\n",
        "\n",
        "fmin = tuple([list(Freq_Bands.values())[f][0] for f in range(len(Freq_Bands))])\n",
        "fmax = tuple([list(Freq_Bands.values())[f][1] for f in range(len(Freq_Bands))])\n",
        "\n",
        "# We specify the connectivity measurements\n",
        "connectivity_methods = [\"wpli\"]\n",
        "n_con_methods = len(connectivity_methods)\n",
        "\n",
        "# Compute connectivity over trials\n",
        "con_epochs = spectral_connectivity_epochs(\n",
        "    epochs,\n",
        "    method=connectivity_methods,\n",
        "    sfreq=sfreq,\n",
        "    mode=\"cwt_morlet\",\n",
        "    cwt_freqs=freqs,\n",
        "    fmin=fmin,\n",
        "    fmax=fmax,\n",
        "    faverage=True,\n",
        "    tmin=tmin,\n",
        "    cwt_n_cycles=4,\n",
        ")"
      ],
      "metadata": {
        "colab": {
          "base_uri": "https://localhost:8080/"
        },
        "id": "nItpTvP603FP",
        "outputId": "09fce7ea-d6ae-49f7-9ac1-35fc9b607a1e"
      },
      "execution_count": 6,
      "outputs": [
        {
          "output_type": "stream",
          "name": "stdout",
          "text": [
            "Adding metadata with 3 columns\n",
            "Connectivity computation...\n",
            "only using indices for lower-triangular matrix\n",
            "    computing connectivity for 2016 connections\n",
            "    using t=0.000s..1.499s for estimation (1500 points)\n",
            "    frequencies: 4.0Hz..8.0Hz (17 points)\n",
            "    connectivity scores will be averaged for each band\n",
            "    using CWT with Morlet wavelets to estimate spectra\n",
            "    the following metrics will be computed: WPLI\n",
            "    computing cross-spectral density for epoch 1\n"
          ]
        },
        {
          "output_type": "stream",
          "name": "stderr",
          "text": [
            "<ipython-input-6-95208ce18454>:19: UserWarning: At least one of the wavelets (1591) is longer than the signal (1500). Consider using a longer signal or shorter wavelets.\n",
            "  con_epochs = spectral_connectivity_epochs(\n"
          ]
        },
        {
          "output_type": "stream",
          "name": "stdout",
          "text": [
            "    computing cross-spectral density for epoch 2\n"
          ]
        },
        {
          "output_type": "stream",
          "name": "stderr",
          "text": [
            "<ipython-input-6-95208ce18454>:19: UserWarning: At least one of the wavelets (1591) is longer than the signal (1500). Consider using a longer signal or shorter wavelets.\n",
            "  con_epochs = spectral_connectivity_epochs(\n"
          ]
        },
        {
          "output_type": "stream",
          "name": "stdout",
          "text": [
            "    computing cross-spectral density for epoch 3\n"
          ]
        },
        {
          "output_type": "stream",
          "name": "stderr",
          "text": [
            "<ipython-input-6-95208ce18454>:19: UserWarning: At least one of the wavelets (1591) is longer than the signal (1500). Consider using a longer signal or shorter wavelets.\n",
            "  con_epochs = spectral_connectivity_epochs(\n"
          ]
        },
        {
          "output_type": "stream",
          "name": "stdout",
          "text": [
            "    computing cross-spectral density for epoch 4\n"
          ]
        },
        {
          "output_type": "stream",
          "name": "stderr",
          "text": [
            "<ipython-input-6-95208ce18454>:19: UserWarning: At least one of the wavelets (1591) is longer than the signal (1500). Consider using a longer signal or shorter wavelets.\n",
            "  con_epochs = spectral_connectivity_epochs(\n"
          ]
        },
        {
          "output_type": "stream",
          "name": "stdout",
          "text": [
            "    computing cross-spectral density for epoch 5\n"
          ]
        },
        {
          "output_type": "stream",
          "name": "stderr",
          "text": [
            "<ipython-input-6-95208ce18454>:19: UserWarning: At least one of the wavelets (1591) is longer than the signal (1500). Consider using a longer signal or shorter wavelets.\n",
            "  con_epochs = spectral_connectivity_epochs(\n"
          ]
        },
        {
          "output_type": "stream",
          "name": "stdout",
          "text": [
            "    computing cross-spectral density for epoch 6\n"
          ]
        },
        {
          "output_type": "stream",
          "name": "stderr",
          "text": [
            "<ipython-input-6-95208ce18454>:19: UserWarning: At least one of the wavelets (1591) is longer than the signal (1500). Consider using a longer signal or shorter wavelets.\n",
            "  con_epochs = spectral_connectivity_epochs(\n"
          ]
        },
        {
          "output_type": "stream",
          "name": "stdout",
          "text": [
            "    computing cross-spectral density for epoch 7\n"
          ]
        },
        {
          "output_type": "stream",
          "name": "stderr",
          "text": [
            "<ipython-input-6-95208ce18454>:19: UserWarning: At least one of the wavelets (1591) is longer than the signal (1500). Consider using a longer signal or shorter wavelets.\n",
            "  con_epochs = spectral_connectivity_epochs(\n"
          ]
        },
        {
          "output_type": "stream",
          "name": "stdout",
          "text": [
            "    computing cross-spectral density for epoch 8\n"
          ]
        },
        {
          "output_type": "stream",
          "name": "stderr",
          "text": [
            "<ipython-input-6-95208ce18454>:19: UserWarning: At least one of the wavelets (1591) is longer than the signal (1500). Consider using a longer signal or shorter wavelets.\n",
            "  con_epochs = spectral_connectivity_epochs(\n"
          ]
        },
        {
          "output_type": "stream",
          "name": "stdout",
          "text": [
            "    computing cross-spectral density for epoch 9\n"
          ]
        },
        {
          "output_type": "stream",
          "name": "stderr",
          "text": [
            "<ipython-input-6-95208ce18454>:19: UserWarning: At least one of the wavelets (1591) is longer than the signal (1500). Consider using a longer signal or shorter wavelets.\n",
            "  con_epochs = spectral_connectivity_epochs(\n"
          ]
        },
        {
          "output_type": "stream",
          "name": "stdout",
          "text": [
            "    computing cross-spectral density for epoch 10\n"
          ]
        },
        {
          "output_type": "stream",
          "name": "stderr",
          "text": [
            "<ipython-input-6-95208ce18454>:19: UserWarning: At least one of the wavelets (1591) is longer than the signal (1500). Consider using a longer signal or shorter wavelets.\n",
            "  con_epochs = spectral_connectivity_epochs(\n"
          ]
        },
        {
          "output_type": "stream",
          "name": "stdout",
          "text": [
            "    computing cross-spectral density for epoch 11\n"
          ]
        },
        {
          "output_type": "stream",
          "name": "stderr",
          "text": [
            "<ipython-input-6-95208ce18454>:19: UserWarning: At least one of the wavelets (1591) is longer than the signal (1500). Consider using a longer signal or shorter wavelets.\n",
            "  con_epochs = spectral_connectivity_epochs(\n"
          ]
        },
        {
          "output_type": "stream",
          "name": "stdout",
          "text": [
            "    computing cross-spectral density for epoch 12\n"
          ]
        },
        {
          "output_type": "stream",
          "name": "stderr",
          "text": [
            "<ipython-input-6-95208ce18454>:19: UserWarning: At least one of the wavelets (1591) is longer than the signal (1500). Consider using a longer signal or shorter wavelets.\n",
            "  con_epochs = spectral_connectivity_epochs(\n"
          ]
        },
        {
          "output_type": "stream",
          "name": "stdout",
          "text": [
            "    computing cross-spectral density for epoch 13\n"
          ]
        },
        {
          "output_type": "stream",
          "name": "stderr",
          "text": [
            "<ipython-input-6-95208ce18454>:19: UserWarning: At least one of the wavelets (1591) is longer than the signal (1500). Consider using a longer signal or shorter wavelets.\n",
            "  con_epochs = spectral_connectivity_epochs(\n"
          ]
        },
        {
          "output_type": "stream",
          "name": "stdout",
          "text": [
            "    computing cross-spectral density for epoch 14\n"
          ]
        },
        {
          "output_type": "stream",
          "name": "stderr",
          "text": [
            "<ipython-input-6-95208ce18454>:19: UserWarning: At least one of the wavelets (1591) is longer than the signal (1500). Consider using a longer signal or shorter wavelets.\n",
            "  con_epochs = spectral_connectivity_epochs(\n"
          ]
        },
        {
          "output_type": "stream",
          "name": "stdout",
          "text": [
            "    computing cross-spectral density for epoch 15\n"
          ]
        },
        {
          "output_type": "stream",
          "name": "stderr",
          "text": [
            "<ipython-input-6-95208ce18454>:19: UserWarning: At least one of the wavelets (1591) is longer than the signal (1500). Consider using a longer signal or shorter wavelets.\n",
            "  con_epochs = spectral_connectivity_epochs(\n"
          ]
        },
        {
          "output_type": "stream",
          "name": "stdout",
          "text": [
            "    computing cross-spectral density for epoch 16\n"
          ]
        },
        {
          "output_type": "stream",
          "name": "stderr",
          "text": [
            "<ipython-input-6-95208ce18454>:19: UserWarning: At least one of the wavelets (1591) is longer than the signal (1500). Consider using a longer signal or shorter wavelets.\n",
            "  con_epochs = spectral_connectivity_epochs(\n"
          ]
        },
        {
          "output_type": "stream",
          "name": "stdout",
          "text": [
            "    computing cross-spectral density for epoch 17\n"
          ]
        },
        {
          "output_type": "stream",
          "name": "stderr",
          "text": [
            "<ipython-input-6-95208ce18454>:19: UserWarning: At least one of the wavelets (1591) is longer than the signal (1500). Consider using a longer signal or shorter wavelets.\n",
            "  con_epochs = spectral_connectivity_epochs(\n"
          ]
        },
        {
          "output_type": "stream",
          "name": "stdout",
          "text": [
            "    computing cross-spectral density for epoch 18\n"
          ]
        },
        {
          "output_type": "stream",
          "name": "stderr",
          "text": [
            "<ipython-input-6-95208ce18454>:19: UserWarning: At least one of the wavelets (1591) is longer than the signal (1500). Consider using a longer signal or shorter wavelets.\n",
            "  con_epochs = spectral_connectivity_epochs(\n"
          ]
        },
        {
          "output_type": "stream",
          "name": "stdout",
          "text": [
            "    computing cross-spectral density for epoch 19\n"
          ]
        },
        {
          "output_type": "stream",
          "name": "stderr",
          "text": [
            "<ipython-input-6-95208ce18454>:19: UserWarning: At least one of the wavelets (1591) is longer than the signal (1500). Consider using a longer signal or shorter wavelets.\n",
            "  con_epochs = spectral_connectivity_epochs(\n"
          ]
        },
        {
          "output_type": "stream",
          "name": "stdout",
          "text": [
            "    computing cross-spectral density for epoch 20\n"
          ]
        },
        {
          "output_type": "stream",
          "name": "stderr",
          "text": [
            "<ipython-input-6-95208ce18454>:19: UserWarning: At least one of the wavelets (1591) is longer than the signal (1500). Consider using a longer signal or shorter wavelets.\n",
            "  con_epochs = spectral_connectivity_epochs(\n"
          ]
        },
        {
          "output_type": "stream",
          "name": "stdout",
          "text": [
            "    computing cross-spectral density for epoch 21\n"
          ]
        },
        {
          "output_type": "stream",
          "name": "stderr",
          "text": [
            "<ipython-input-6-95208ce18454>:19: UserWarning: At least one of the wavelets (1591) is longer than the signal (1500). Consider using a longer signal or shorter wavelets.\n",
            "  con_epochs = spectral_connectivity_epochs(\n"
          ]
        },
        {
          "output_type": "stream",
          "name": "stdout",
          "text": [
            "    computing cross-spectral density for epoch 22\n"
          ]
        },
        {
          "output_type": "stream",
          "name": "stderr",
          "text": [
            "<ipython-input-6-95208ce18454>:19: UserWarning: At least one of the wavelets (1591) is longer than the signal (1500). Consider using a longer signal or shorter wavelets.\n",
            "  con_epochs = spectral_connectivity_epochs(\n"
          ]
        },
        {
          "output_type": "stream",
          "name": "stdout",
          "text": [
            "    computing cross-spectral density for epoch 23\n"
          ]
        },
        {
          "output_type": "stream",
          "name": "stderr",
          "text": [
            "<ipython-input-6-95208ce18454>:19: UserWarning: At least one of the wavelets (1591) is longer than the signal (1500). Consider using a longer signal or shorter wavelets.\n",
            "  con_epochs = spectral_connectivity_epochs(\n"
          ]
        },
        {
          "output_type": "stream",
          "name": "stdout",
          "text": [
            "    computing cross-spectral density for epoch 24\n"
          ]
        },
        {
          "output_type": "stream",
          "name": "stderr",
          "text": [
            "<ipython-input-6-95208ce18454>:19: UserWarning: At least one of the wavelets (1591) is longer than the signal (1500). Consider using a longer signal or shorter wavelets.\n",
            "  con_epochs = spectral_connectivity_epochs(\n"
          ]
        },
        {
          "output_type": "stream",
          "name": "stdout",
          "text": [
            "    computing cross-spectral density for epoch 25\n"
          ]
        },
        {
          "output_type": "stream",
          "name": "stderr",
          "text": [
            "<ipython-input-6-95208ce18454>:19: UserWarning: At least one of the wavelets (1591) is longer than the signal (1500). Consider using a longer signal or shorter wavelets.\n",
            "  con_epochs = spectral_connectivity_epochs(\n"
          ]
        },
        {
          "output_type": "stream",
          "name": "stdout",
          "text": [
            "    computing cross-spectral density for epoch 26\n"
          ]
        },
        {
          "output_type": "stream",
          "name": "stderr",
          "text": [
            "<ipython-input-6-95208ce18454>:19: UserWarning: At least one of the wavelets (1591) is longer than the signal (1500). Consider using a longer signal or shorter wavelets.\n",
            "  con_epochs = spectral_connectivity_epochs(\n"
          ]
        },
        {
          "output_type": "stream",
          "name": "stdout",
          "text": [
            "    computing cross-spectral density for epoch 27\n"
          ]
        },
        {
          "output_type": "stream",
          "name": "stderr",
          "text": [
            "<ipython-input-6-95208ce18454>:19: UserWarning: At least one of the wavelets (1591) is longer than the signal (1500). Consider using a longer signal or shorter wavelets.\n",
            "  con_epochs = spectral_connectivity_epochs(\n"
          ]
        },
        {
          "output_type": "stream",
          "name": "stdout",
          "text": [
            "    computing cross-spectral density for epoch 28\n"
          ]
        },
        {
          "output_type": "stream",
          "name": "stderr",
          "text": [
            "<ipython-input-6-95208ce18454>:19: UserWarning: At least one of the wavelets (1591) is longer than the signal (1500). Consider using a longer signal or shorter wavelets.\n",
            "  con_epochs = spectral_connectivity_epochs(\n"
          ]
        },
        {
          "output_type": "stream",
          "name": "stdout",
          "text": [
            "    computing cross-spectral density for epoch 29\n"
          ]
        },
        {
          "output_type": "stream",
          "name": "stderr",
          "text": [
            "<ipython-input-6-95208ce18454>:19: UserWarning: At least one of the wavelets (1591) is longer than the signal (1500). Consider using a longer signal or shorter wavelets.\n",
            "  con_epochs = spectral_connectivity_epochs(\n"
          ]
        },
        {
          "output_type": "stream",
          "name": "stdout",
          "text": [
            "    computing cross-spectral density for epoch 30\n"
          ]
        },
        {
          "output_type": "stream",
          "name": "stderr",
          "text": [
            "<ipython-input-6-95208ce18454>:19: UserWarning: At least one of the wavelets (1591) is longer than the signal (1500). Consider using a longer signal or shorter wavelets.\n",
            "  con_epochs = spectral_connectivity_epochs(\n"
          ]
        },
        {
          "output_type": "stream",
          "name": "stdout",
          "text": [
            "    computing cross-spectral density for epoch 31\n"
          ]
        },
        {
          "output_type": "stream",
          "name": "stderr",
          "text": [
            "<ipython-input-6-95208ce18454>:19: UserWarning: At least one of the wavelets (1591) is longer than the signal (1500). Consider using a longer signal or shorter wavelets.\n",
            "  con_epochs = spectral_connectivity_epochs(\n"
          ]
        },
        {
          "output_type": "stream",
          "name": "stdout",
          "text": [
            "    computing cross-spectral density for epoch 32\n"
          ]
        },
        {
          "output_type": "stream",
          "name": "stderr",
          "text": [
            "<ipython-input-6-95208ce18454>:19: UserWarning: At least one of the wavelets (1591) is longer than the signal (1500). Consider using a longer signal or shorter wavelets.\n",
            "  con_epochs = spectral_connectivity_epochs(\n"
          ]
        },
        {
          "output_type": "stream",
          "name": "stdout",
          "text": [
            "    computing cross-spectral density for epoch 33\n"
          ]
        },
        {
          "output_type": "stream",
          "name": "stderr",
          "text": [
            "<ipython-input-6-95208ce18454>:19: UserWarning: At least one of the wavelets (1591) is longer than the signal (1500). Consider using a longer signal or shorter wavelets.\n",
            "  con_epochs = spectral_connectivity_epochs(\n"
          ]
        },
        {
          "output_type": "stream",
          "name": "stdout",
          "text": [
            "    computing cross-spectral density for epoch 34\n"
          ]
        },
        {
          "output_type": "stream",
          "name": "stderr",
          "text": [
            "<ipython-input-6-95208ce18454>:19: UserWarning: At least one of the wavelets (1591) is longer than the signal (1500). Consider using a longer signal or shorter wavelets.\n",
            "  con_epochs = spectral_connectivity_epochs(\n"
          ]
        },
        {
          "output_type": "stream",
          "name": "stdout",
          "text": [
            "    computing cross-spectral density for epoch 35\n"
          ]
        },
        {
          "output_type": "stream",
          "name": "stderr",
          "text": [
            "<ipython-input-6-95208ce18454>:19: UserWarning: At least one of the wavelets (1591) is longer than the signal (1500). Consider using a longer signal or shorter wavelets.\n",
            "  con_epochs = spectral_connectivity_epochs(\n"
          ]
        },
        {
          "output_type": "stream",
          "name": "stdout",
          "text": [
            "    computing cross-spectral density for epoch 36\n"
          ]
        },
        {
          "output_type": "stream",
          "name": "stderr",
          "text": [
            "<ipython-input-6-95208ce18454>:19: UserWarning: At least one of the wavelets (1591) is longer than the signal (1500). Consider using a longer signal or shorter wavelets.\n",
            "  con_epochs = spectral_connectivity_epochs(\n"
          ]
        },
        {
          "output_type": "stream",
          "name": "stdout",
          "text": [
            "    computing cross-spectral density for epoch 37\n"
          ]
        },
        {
          "output_type": "stream",
          "name": "stderr",
          "text": [
            "<ipython-input-6-95208ce18454>:19: UserWarning: At least one of the wavelets (1591) is longer than the signal (1500). Consider using a longer signal or shorter wavelets.\n",
            "  con_epochs = spectral_connectivity_epochs(\n"
          ]
        },
        {
          "output_type": "stream",
          "name": "stdout",
          "text": [
            "    computing cross-spectral density for epoch 38\n"
          ]
        },
        {
          "output_type": "stream",
          "name": "stderr",
          "text": [
            "<ipython-input-6-95208ce18454>:19: UserWarning: At least one of the wavelets (1591) is longer than the signal (1500). Consider using a longer signal or shorter wavelets.\n",
            "  con_epochs = spectral_connectivity_epochs(\n"
          ]
        },
        {
          "output_type": "stream",
          "name": "stdout",
          "text": [
            "    computing cross-spectral density for epoch 39\n"
          ]
        },
        {
          "output_type": "stream",
          "name": "stderr",
          "text": [
            "<ipython-input-6-95208ce18454>:19: UserWarning: At least one of the wavelets (1591) is longer than the signal (1500). Consider using a longer signal or shorter wavelets.\n",
            "  con_epochs = spectral_connectivity_epochs(\n"
          ]
        },
        {
          "output_type": "stream",
          "name": "stdout",
          "text": [
            "    computing cross-spectral density for epoch 40\n"
          ]
        },
        {
          "output_type": "stream",
          "name": "stderr",
          "text": [
            "<ipython-input-6-95208ce18454>:19: UserWarning: At least one of the wavelets (1591) is longer than the signal (1500). Consider using a longer signal or shorter wavelets.\n",
            "  con_epochs = spectral_connectivity_epochs(\n"
          ]
        },
        {
          "output_type": "stream",
          "name": "stdout",
          "text": [
            "    computing cross-spectral density for epoch 41\n"
          ]
        },
        {
          "output_type": "stream",
          "name": "stderr",
          "text": [
            "<ipython-input-6-95208ce18454>:19: UserWarning: At least one of the wavelets (1591) is longer than the signal (1500). Consider using a longer signal or shorter wavelets.\n",
            "  con_epochs = spectral_connectivity_epochs(\n"
          ]
        },
        {
          "output_type": "stream",
          "name": "stdout",
          "text": [
            "    computing cross-spectral density for epoch 42\n"
          ]
        },
        {
          "output_type": "stream",
          "name": "stderr",
          "text": [
            "<ipython-input-6-95208ce18454>:19: UserWarning: At least one of the wavelets (1591) is longer than the signal (1500). Consider using a longer signal or shorter wavelets.\n",
            "  con_epochs = spectral_connectivity_epochs(\n"
          ]
        },
        {
          "output_type": "stream",
          "name": "stdout",
          "text": [
            "    computing cross-spectral density for epoch 43\n"
          ]
        },
        {
          "output_type": "stream",
          "name": "stderr",
          "text": [
            "<ipython-input-6-95208ce18454>:19: UserWarning: At least one of the wavelets (1591) is longer than the signal (1500). Consider using a longer signal or shorter wavelets.\n",
            "  con_epochs = spectral_connectivity_epochs(\n"
          ]
        },
        {
          "output_type": "stream",
          "name": "stdout",
          "text": [
            "    computing cross-spectral density for epoch 44\n"
          ]
        },
        {
          "output_type": "stream",
          "name": "stderr",
          "text": [
            "<ipython-input-6-95208ce18454>:19: UserWarning: At least one of the wavelets (1591) is longer than the signal (1500). Consider using a longer signal or shorter wavelets.\n",
            "  con_epochs = spectral_connectivity_epochs(\n"
          ]
        },
        {
          "output_type": "stream",
          "name": "stdout",
          "text": [
            "    computing cross-spectral density for epoch 45\n"
          ]
        },
        {
          "output_type": "stream",
          "name": "stderr",
          "text": [
            "<ipython-input-6-95208ce18454>:19: UserWarning: At least one of the wavelets (1591) is longer than the signal (1500). Consider using a longer signal or shorter wavelets.\n",
            "  con_epochs = spectral_connectivity_epochs(\n"
          ]
        },
        {
          "output_type": "stream",
          "name": "stdout",
          "text": [
            "    computing cross-spectral density for epoch 46\n"
          ]
        },
        {
          "output_type": "stream",
          "name": "stderr",
          "text": [
            "<ipython-input-6-95208ce18454>:19: UserWarning: At least one of the wavelets (1591) is longer than the signal (1500). Consider using a longer signal or shorter wavelets.\n",
            "  con_epochs = spectral_connectivity_epochs(\n"
          ]
        },
        {
          "output_type": "stream",
          "name": "stdout",
          "text": [
            "    computing cross-spectral density for epoch 47\n"
          ]
        },
        {
          "output_type": "stream",
          "name": "stderr",
          "text": [
            "<ipython-input-6-95208ce18454>:19: UserWarning: At least one of the wavelets (1591) is longer than the signal (1500). Consider using a longer signal or shorter wavelets.\n",
            "  con_epochs = spectral_connectivity_epochs(\n"
          ]
        },
        {
          "output_type": "stream",
          "name": "stdout",
          "text": [
            "    computing cross-spectral density for epoch 48\n"
          ]
        },
        {
          "output_type": "stream",
          "name": "stderr",
          "text": [
            "<ipython-input-6-95208ce18454>:19: UserWarning: At least one of the wavelets (1591) is longer than the signal (1500). Consider using a longer signal or shorter wavelets.\n",
            "  con_epochs = spectral_connectivity_epochs(\n"
          ]
        },
        {
          "output_type": "stream",
          "name": "stdout",
          "text": [
            "    computing cross-spectral density for epoch 49\n"
          ]
        },
        {
          "output_type": "stream",
          "name": "stderr",
          "text": [
            "<ipython-input-6-95208ce18454>:19: UserWarning: At least one of the wavelets (1591) is longer than the signal (1500). Consider using a longer signal or shorter wavelets.\n",
            "  con_epochs = spectral_connectivity_epochs(\n"
          ]
        },
        {
          "output_type": "stream",
          "name": "stdout",
          "text": [
            "    computing cross-spectral density for epoch 50\n"
          ]
        },
        {
          "output_type": "stream",
          "name": "stderr",
          "text": [
            "<ipython-input-6-95208ce18454>:19: UserWarning: At least one of the wavelets (1591) is longer than the signal (1500). Consider using a longer signal or shorter wavelets.\n",
            "  con_epochs = spectral_connectivity_epochs(\n"
          ]
        },
        {
          "output_type": "stream",
          "name": "stdout",
          "text": [
            "    computing cross-spectral density for epoch 51\n"
          ]
        },
        {
          "output_type": "stream",
          "name": "stderr",
          "text": [
            "<ipython-input-6-95208ce18454>:19: UserWarning: At least one of the wavelets (1591) is longer than the signal (1500). Consider using a longer signal or shorter wavelets.\n",
            "  con_epochs = spectral_connectivity_epochs(\n"
          ]
        },
        {
          "output_type": "stream",
          "name": "stdout",
          "text": [
            "    computing cross-spectral density for epoch 52\n"
          ]
        },
        {
          "output_type": "stream",
          "name": "stderr",
          "text": [
            "<ipython-input-6-95208ce18454>:19: UserWarning: At least one of the wavelets (1591) is longer than the signal (1500). Consider using a longer signal or shorter wavelets.\n",
            "  con_epochs = spectral_connectivity_epochs(\n"
          ]
        },
        {
          "output_type": "stream",
          "name": "stdout",
          "text": [
            "    computing cross-spectral density for epoch 53\n"
          ]
        },
        {
          "output_type": "stream",
          "name": "stderr",
          "text": [
            "<ipython-input-6-95208ce18454>:19: UserWarning: At least one of the wavelets (1591) is longer than the signal (1500). Consider using a longer signal or shorter wavelets.\n",
            "  con_epochs = spectral_connectivity_epochs(\n"
          ]
        },
        {
          "output_type": "stream",
          "name": "stdout",
          "text": [
            "    computing cross-spectral density for epoch 54\n"
          ]
        },
        {
          "output_type": "stream",
          "name": "stderr",
          "text": [
            "<ipython-input-6-95208ce18454>:19: UserWarning: At least one of the wavelets (1591) is longer than the signal (1500). Consider using a longer signal or shorter wavelets.\n",
            "  con_epochs = spectral_connectivity_epochs(\n"
          ]
        },
        {
          "output_type": "stream",
          "name": "stdout",
          "text": [
            "    computing cross-spectral density for epoch 55\n"
          ]
        },
        {
          "output_type": "stream",
          "name": "stderr",
          "text": [
            "<ipython-input-6-95208ce18454>:19: UserWarning: At least one of the wavelets (1591) is longer than the signal (1500). Consider using a longer signal or shorter wavelets.\n",
            "  con_epochs = spectral_connectivity_epochs(\n"
          ]
        },
        {
          "output_type": "stream",
          "name": "stdout",
          "text": [
            "    computing cross-spectral density for epoch 56\n"
          ]
        },
        {
          "output_type": "stream",
          "name": "stderr",
          "text": [
            "<ipython-input-6-95208ce18454>:19: UserWarning: At least one of the wavelets (1591) is longer than the signal (1500). Consider using a longer signal or shorter wavelets.\n",
            "  con_epochs = spectral_connectivity_epochs(\n"
          ]
        },
        {
          "output_type": "stream",
          "name": "stdout",
          "text": [
            "    computing cross-spectral density for epoch 57\n"
          ]
        },
        {
          "output_type": "stream",
          "name": "stderr",
          "text": [
            "<ipython-input-6-95208ce18454>:19: UserWarning: At least one of the wavelets (1591) is longer than the signal (1500). Consider using a longer signal or shorter wavelets.\n",
            "  con_epochs = spectral_connectivity_epochs(\n"
          ]
        },
        {
          "output_type": "stream",
          "name": "stdout",
          "text": [
            "    computing cross-spectral density for epoch 58\n"
          ]
        },
        {
          "output_type": "stream",
          "name": "stderr",
          "text": [
            "<ipython-input-6-95208ce18454>:19: UserWarning: At least one of the wavelets (1591) is longer than the signal (1500). Consider using a longer signal or shorter wavelets.\n",
            "  con_epochs = spectral_connectivity_epochs(\n"
          ]
        },
        {
          "output_type": "stream",
          "name": "stdout",
          "text": [
            "    computing cross-spectral density for epoch 59\n"
          ]
        },
        {
          "output_type": "stream",
          "name": "stderr",
          "text": [
            "<ipython-input-6-95208ce18454>:19: UserWarning: At least one of the wavelets (1591) is longer than the signal (1500). Consider using a longer signal or shorter wavelets.\n",
            "  con_epochs = spectral_connectivity_epochs(\n"
          ]
        },
        {
          "output_type": "stream",
          "name": "stdout",
          "text": [
            "    computing cross-spectral density for epoch 60\n"
          ]
        },
        {
          "output_type": "stream",
          "name": "stderr",
          "text": [
            "<ipython-input-6-95208ce18454>:19: UserWarning: At least one of the wavelets (1591) is longer than the signal (1500). Consider using a longer signal or shorter wavelets.\n",
            "  con_epochs = spectral_connectivity_epochs(\n"
          ]
        },
        {
          "output_type": "stream",
          "name": "stdout",
          "text": [
            "    computing cross-spectral density for epoch 61\n"
          ]
        },
        {
          "output_type": "stream",
          "name": "stderr",
          "text": [
            "<ipython-input-6-95208ce18454>:19: UserWarning: At least one of the wavelets (1591) is longer than the signal (1500). Consider using a longer signal or shorter wavelets.\n",
            "  con_epochs = spectral_connectivity_epochs(\n"
          ]
        },
        {
          "output_type": "stream",
          "name": "stdout",
          "text": [
            "    computing cross-spectral density for epoch 62\n"
          ]
        },
        {
          "output_type": "stream",
          "name": "stderr",
          "text": [
            "<ipython-input-6-95208ce18454>:19: UserWarning: At least one of the wavelets (1591) is longer than the signal (1500). Consider using a longer signal or shorter wavelets.\n",
            "  con_epochs = spectral_connectivity_epochs(\n"
          ]
        },
        {
          "output_type": "stream",
          "name": "stdout",
          "text": [
            "    computing cross-spectral density for epoch 63\n"
          ]
        },
        {
          "output_type": "stream",
          "name": "stderr",
          "text": [
            "<ipython-input-6-95208ce18454>:19: UserWarning: At least one of the wavelets (1591) is longer than the signal (1500). Consider using a longer signal or shorter wavelets.\n",
            "  con_epochs = spectral_connectivity_epochs(\n"
          ]
        },
        {
          "output_type": "stream",
          "name": "stdout",
          "text": [
            "    computing cross-spectral density for epoch 64\n"
          ]
        },
        {
          "output_type": "stream",
          "name": "stderr",
          "text": [
            "<ipython-input-6-95208ce18454>:19: UserWarning: At least one of the wavelets (1591) is longer than the signal (1500). Consider using a longer signal or shorter wavelets.\n",
            "  con_epochs = spectral_connectivity_epochs(\n"
          ]
        },
        {
          "output_type": "stream",
          "name": "stdout",
          "text": [
            "    computing cross-spectral density for epoch 65\n"
          ]
        },
        {
          "output_type": "stream",
          "name": "stderr",
          "text": [
            "<ipython-input-6-95208ce18454>:19: UserWarning: At least one of the wavelets (1591) is longer than the signal (1500). Consider using a longer signal or shorter wavelets.\n",
            "  con_epochs = spectral_connectivity_epochs(\n"
          ]
        },
        {
          "output_type": "stream",
          "name": "stdout",
          "text": [
            "    computing cross-spectral density for epoch 66\n"
          ]
        },
        {
          "output_type": "stream",
          "name": "stderr",
          "text": [
            "<ipython-input-6-95208ce18454>:19: UserWarning: At least one of the wavelets (1591) is longer than the signal (1500). Consider using a longer signal or shorter wavelets.\n",
            "  con_epochs = spectral_connectivity_epochs(\n"
          ]
        },
        {
          "output_type": "stream",
          "name": "stdout",
          "text": [
            "    computing cross-spectral density for epoch 67\n"
          ]
        },
        {
          "output_type": "stream",
          "name": "stderr",
          "text": [
            "<ipython-input-6-95208ce18454>:19: UserWarning: At least one of the wavelets (1591) is longer than the signal (1500). Consider using a longer signal or shorter wavelets.\n",
            "  con_epochs = spectral_connectivity_epochs(\n"
          ]
        },
        {
          "output_type": "stream",
          "name": "stdout",
          "text": [
            "    computing cross-spectral density for epoch 68\n"
          ]
        },
        {
          "output_type": "stream",
          "name": "stderr",
          "text": [
            "<ipython-input-6-95208ce18454>:19: UserWarning: At least one of the wavelets (1591) is longer than the signal (1500). Consider using a longer signal or shorter wavelets.\n",
            "  con_epochs = spectral_connectivity_epochs(\n"
          ]
        },
        {
          "output_type": "stream",
          "name": "stdout",
          "text": [
            "    computing cross-spectral density for epoch 69\n"
          ]
        },
        {
          "output_type": "stream",
          "name": "stderr",
          "text": [
            "<ipython-input-6-95208ce18454>:19: UserWarning: At least one of the wavelets (1591) is longer than the signal (1500). Consider using a longer signal or shorter wavelets.\n",
            "  con_epochs = spectral_connectivity_epochs(\n"
          ]
        },
        {
          "output_type": "stream",
          "name": "stdout",
          "text": [
            "    computing cross-spectral density for epoch 70\n"
          ]
        },
        {
          "output_type": "stream",
          "name": "stderr",
          "text": [
            "<ipython-input-6-95208ce18454>:19: UserWarning: At least one of the wavelets (1591) is longer than the signal (1500). Consider using a longer signal or shorter wavelets.\n",
            "  con_epochs = spectral_connectivity_epochs(\n"
          ]
        },
        {
          "output_type": "stream",
          "name": "stdout",
          "text": [
            "    computing cross-spectral density for epoch 71\n"
          ]
        },
        {
          "output_type": "stream",
          "name": "stderr",
          "text": [
            "<ipython-input-6-95208ce18454>:19: UserWarning: At least one of the wavelets (1591) is longer than the signal (1500). Consider using a longer signal or shorter wavelets.\n",
            "  con_epochs = spectral_connectivity_epochs(\n"
          ]
        },
        {
          "output_type": "stream",
          "name": "stdout",
          "text": [
            "    computing cross-spectral density for epoch 72\n"
          ]
        },
        {
          "output_type": "stream",
          "name": "stderr",
          "text": [
            "<ipython-input-6-95208ce18454>:19: UserWarning: At least one of the wavelets (1591) is longer than the signal (1500). Consider using a longer signal or shorter wavelets.\n",
            "  con_epochs = spectral_connectivity_epochs(\n"
          ]
        },
        {
          "output_type": "stream",
          "name": "stdout",
          "text": [
            "    computing cross-spectral density for epoch 73\n"
          ]
        },
        {
          "output_type": "stream",
          "name": "stderr",
          "text": [
            "<ipython-input-6-95208ce18454>:19: UserWarning: At least one of the wavelets (1591) is longer than the signal (1500). Consider using a longer signal or shorter wavelets.\n",
            "  con_epochs = spectral_connectivity_epochs(\n"
          ]
        },
        {
          "output_type": "stream",
          "name": "stdout",
          "text": [
            "    computing cross-spectral density for epoch 74\n"
          ]
        },
        {
          "output_type": "stream",
          "name": "stderr",
          "text": [
            "<ipython-input-6-95208ce18454>:19: UserWarning: At least one of the wavelets (1591) is longer than the signal (1500). Consider using a longer signal or shorter wavelets.\n",
            "  con_epochs = spectral_connectivity_epochs(\n"
          ]
        },
        {
          "output_type": "stream",
          "name": "stdout",
          "text": [
            "    computing cross-spectral density for epoch 75\n"
          ]
        },
        {
          "output_type": "stream",
          "name": "stderr",
          "text": [
            "<ipython-input-6-95208ce18454>:19: UserWarning: At least one of the wavelets (1591) is longer than the signal (1500). Consider using a longer signal or shorter wavelets.\n",
            "  con_epochs = spectral_connectivity_epochs(\n"
          ]
        },
        {
          "output_type": "stream",
          "name": "stdout",
          "text": [
            "    computing cross-spectral density for epoch 76\n"
          ]
        },
        {
          "output_type": "stream",
          "name": "stderr",
          "text": [
            "<ipython-input-6-95208ce18454>:19: UserWarning: At least one of the wavelets (1591) is longer than the signal (1500). Consider using a longer signal or shorter wavelets.\n",
            "  con_epochs = spectral_connectivity_epochs(\n"
          ]
        },
        {
          "output_type": "stream",
          "name": "stdout",
          "text": [
            "    computing cross-spectral density for epoch 77\n"
          ]
        },
        {
          "output_type": "stream",
          "name": "stderr",
          "text": [
            "<ipython-input-6-95208ce18454>:19: UserWarning: At least one of the wavelets (1591) is longer than the signal (1500). Consider using a longer signal or shorter wavelets.\n",
            "  con_epochs = spectral_connectivity_epochs(\n"
          ]
        },
        {
          "output_type": "stream",
          "name": "stdout",
          "text": [
            "    computing cross-spectral density for epoch 78\n"
          ]
        },
        {
          "output_type": "stream",
          "name": "stderr",
          "text": [
            "<ipython-input-6-95208ce18454>:19: UserWarning: At least one of the wavelets (1591) is longer than the signal (1500). Consider using a longer signal or shorter wavelets.\n",
            "  con_epochs = spectral_connectivity_epochs(\n"
          ]
        },
        {
          "output_type": "stream",
          "name": "stdout",
          "text": [
            "    computing cross-spectral density for epoch 79\n"
          ]
        },
        {
          "output_type": "stream",
          "name": "stderr",
          "text": [
            "<ipython-input-6-95208ce18454>:19: UserWarning: At least one of the wavelets (1591) is longer than the signal (1500). Consider using a longer signal or shorter wavelets.\n",
            "  con_epochs = spectral_connectivity_epochs(\n"
          ]
        },
        {
          "output_type": "stream",
          "name": "stdout",
          "text": [
            "    computing cross-spectral density for epoch 80\n"
          ]
        },
        {
          "output_type": "stream",
          "name": "stderr",
          "text": [
            "<ipython-input-6-95208ce18454>:19: UserWarning: At least one of the wavelets (1591) is longer than the signal (1500). Consider using a longer signal or shorter wavelets.\n",
            "  con_epochs = spectral_connectivity_epochs(\n"
          ]
        },
        {
          "output_type": "stream",
          "name": "stdout",
          "text": [
            "    computing cross-spectral density for epoch 81\n"
          ]
        },
        {
          "output_type": "stream",
          "name": "stderr",
          "text": [
            "<ipython-input-6-95208ce18454>:19: UserWarning: At least one of the wavelets (1591) is longer than the signal (1500). Consider using a longer signal or shorter wavelets.\n",
            "  con_epochs = spectral_connectivity_epochs(\n"
          ]
        },
        {
          "output_type": "stream",
          "name": "stdout",
          "text": [
            "    computing cross-spectral density for epoch 82\n"
          ]
        },
        {
          "output_type": "stream",
          "name": "stderr",
          "text": [
            "<ipython-input-6-95208ce18454>:19: UserWarning: At least one of the wavelets (1591) is longer than the signal (1500). Consider using a longer signal or shorter wavelets.\n",
            "  con_epochs = spectral_connectivity_epochs(\n"
          ]
        },
        {
          "output_type": "stream",
          "name": "stdout",
          "text": [
            "    computing cross-spectral density for epoch 83\n"
          ]
        },
        {
          "output_type": "stream",
          "name": "stderr",
          "text": [
            "<ipython-input-6-95208ce18454>:19: UserWarning: At least one of the wavelets (1591) is longer than the signal (1500). Consider using a longer signal or shorter wavelets.\n",
            "  con_epochs = spectral_connectivity_epochs(\n"
          ]
        },
        {
          "output_type": "stream",
          "name": "stdout",
          "text": [
            "    computing cross-spectral density for epoch 84\n"
          ]
        },
        {
          "output_type": "stream",
          "name": "stderr",
          "text": [
            "<ipython-input-6-95208ce18454>:19: UserWarning: At least one of the wavelets (1591) is longer than the signal (1500). Consider using a longer signal or shorter wavelets.\n",
            "  con_epochs = spectral_connectivity_epochs(\n"
          ]
        },
        {
          "output_type": "stream",
          "name": "stdout",
          "text": [
            "    computing cross-spectral density for epoch 85\n"
          ]
        },
        {
          "output_type": "stream",
          "name": "stderr",
          "text": [
            "<ipython-input-6-95208ce18454>:19: UserWarning: At least one of the wavelets (1591) is longer than the signal (1500). Consider using a longer signal or shorter wavelets.\n",
            "  con_epochs = spectral_connectivity_epochs(\n"
          ]
        },
        {
          "output_type": "stream",
          "name": "stdout",
          "text": [
            "    computing cross-spectral density for epoch 86\n"
          ]
        },
        {
          "output_type": "stream",
          "name": "stderr",
          "text": [
            "<ipython-input-6-95208ce18454>:19: UserWarning: At least one of the wavelets (1591) is longer than the signal (1500). Consider using a longer signal or shorter wavelets.\n",
            "  con_epochs = spectral_connectivity_epochs(\n"
          ]
        },
        {
          "output_type": "stream",
          "name": "stdout",
          "text": [
            "    computing cross-spectral density for epoch 87\n"
          ]
        },
        {
          "output_type": "stream",
          "name": "stderr",
          "text": [
            "<ipython-input-6-95208ce18454>:19: UserWarning: At least one of the wavelets (1591) is longer than the signal (1500). Consider using a longer signal or shorter wavelets.\n",
            "  con_epochs = spectral_connectivity_epochs(\n"
          ]
        },
        {
          "output_type": "stream",
          "name": "stdout",
          "text": [
            "    computing cross-spectral density for epoch 88\n"
          ]
        },
        {
          "output_type": "stream",
          "name": "stderr",
          "text": [
            "<ipython-input-6-95208ce18454>:19: UserWarning: At least one of the wavelets (1591) is longer than the signal (1500). Consider using a longer signal or shorter wavelets.\n",
            "  con_epochs = spectral_connectivity_epochs(\n"
          ]
        },
        {
          "output_type": "stream",
          "name": "stdout",
          "text": [
            "    computing cross-spectral density for epoch 89\n"
          ]
        },
        {
          "output_type": "stream",
          "name": "stderr",
          "text": [
            "<ipython-input-6-95208ce18454>:19: UserWarning: At least one of the wavelets (1591) is longer than the signal (1500). Consider using a longer signal or shorter wavelets.\n",
            "  con_epochs = spectral_connectivity_epochs(\n"
          ]
        },
        {
          "output_type": "stream",
          "name": "stdout",
          "text": [
            "    computing cross-spectral density for epoch 90\n"
          ]
        },
        {
          "output_type": "stream",
          "name": "stderr",
          "text": [
            "<ipython-input-6-95208ce18454>:19: UserWarning: At least one of the wavelets (1591) is longer than the signal (1500). Consider using a longer signal or shorter wavelets.\n",
            "  con_epochs = spectral_connectivity_epochs(\n"
          ]
        },
        {
          "output_type": "stream",
          "name": "stdout",
          "text": [
            "    computing cross-spectral density for epoch 91\n"
          ]
        },
        {
          "output_type": "stream",
          "name": "stderr",
          "text": [
            "<ipython-input-6-95208ce18454>:19: UserWarning: At least one of the wavelets (1591) is longer than the signal (1500). Consider using a longer signal or shorter wavelets.\n",
            "  con_epochs = spectral_connectivity_epochs(\n"
          ]
        },
        {
          "output_type": "stream",
          "name": "stdout",
          "text": [
            "    computing cross-spectral density for epoch 92\n"
          ]
        },
        {
          "output_type": "stream",
          "name": "stderr",
          "text": [
            "<ipython-input-6-95208ce18454>:19: UserWarning: At least one of the wavelets (1591) is longer than the signal (1500). Consider using a longer signal or shorter wavelets.\n",
            "  con_epochs = spectral_connectivity_epochs(\n"
          ]
        },
        {
          "output_type": "stream",
          "name": "stdout",
          "text": [
            "    computing cross-spectral density for epoch 93\n"
          ]
        },
        {
          "output_type": "stream",
          "name": "stderr",
          "text": [
            "<ipython-input-6-95208ce18454>:19: UserWarning: At least one of the wavelets (1591) is longer than the signal (1500). Consider using a longer signal or shorter wavelets.\n",
            "  con_epochs = spectral_connectivity_epochs(\n"
          ]
        },
        {
          "output_type": "stream",
          "name": "stdout",
          "text": [
            "    computing cross-spectral density for epoch 94\n"
          ]
        },
        {
          "output_type": "stream",
          "name": "stderr",
          "text": [
            "<ipython-input-6-95208ce18454>:19: UserWarning: At least one of the wavelets (1591) is longer than the signal (1500). Consider using a longer signal or shorter wavelets.\n",
            "  con_epochs = spectral_connectivity_epochs(\n"
          ]
        },
        {
          "output_type": "stream",
          "name": "stdout",
          "text": [
            "    computing cross-spectral density for epoch 95\n"
          ]
        },
        {
          "output_type": "stream",
          "name": "stderr",
          "text": [
            "<ipython-input-6-95208ce18454>:19: UserWarning: At least one of the wavelets (1591) is longer than the signal (1500). Consider using a longer signal or shorter wavelets.\n",
            "  con_epochs = spectral_connectivity_epochs(\n"
          ]
        },
        {
          "output_type": "stream",
          "name": "stdout",
          "text": [
            "    computing cross-spectral density for epoch 96\n"
          ]
        },
        {
          "output_type": "stream",
          "name": "stderr",
          "text": [
            "<ipython-input-6-95208ce18454>:19: UserWarning: At least one of the wavelets (1591) is longer than the signal (1500). Consider using a longer signal or shorter wavelets.\n",
            "  con_epochs = spectral_connectivity_epochs(\n"
          ]
        },
        {
          "output_type": "stream",
          "name": "stdout",
          "text": [
            "    computing cross-spectral density for epoch 97\n"
          ]
        },
        {
          "output_type": "stream",
          "name": "stderr",
          "text": [
            "<ipython-input-6-95208ce18454>:19: UserWarning: At least one of the wavelets (1591) is longer than the signal (1500). Consider using a longer signal or shorter wavelets.\n",
            "  con_epochs = spectral_connectivity_epochs(\n"
          ]
        },
        {
          "output_type": "stream",
          "name": "stdout",
          "text": [
            "    computing cross-spectral density for epoch 98\n"
          ]
        },
        {
          "output_type": "stream",
          "name": "stderr",
          "text": [
            "<ipython-input-6-95208ce18454>:19: UserWarning: At least one of the wavelets (1591) is longer than the signal (1500). Consider using a longer signal or shorter wavelets.\n",
            "  con_epochs = spectral_connectivity_epochs(\n"
          ]
        },
        {
          "output_type": "stream",
          "name": "stdout",
          "text": [
            "    computing cross-spectral density for epoch 99\n"
          ]
        },
        {
          "output_type": "stream",
          "name": "stderr",
          "text": [
            "<ipython-input-6-95208ce18454>:19: UserWarning: At least one of the wavelets (1591) is longer than the signal (1500). Consider using a longer signal or shorter wavelets.\n",
            "  con_epochs = spectral_connectivity_epochs(\n"
          ]
        },
        {
          "output_type": "stream",
          "name": "stdout",
          "text": [
            "    computing cross-spectral density for epoch 100\n"
          ]
        },
        {
          "output_type": "stream",
          "name": "stderr",
          "text": [
            "<ipython-input-6-95208ce18454>:19: UserWarning: At least one of the wavelets (1591) is longer than the signal (1500). Consider using a longer signal or shorter wavelets.\n",
            "  con_epochs = spectral_connectivity_epochs(\n"
          ]
        },
        {
          "output_type": "stream",
          "name": "stdout",
          "text": [
            "    computing cross-spectral density for epoch 101\n"
          ]
        },
        {
          "output_type": "stream",
          "name": "stderr",
          "text": [
            "<ipython-input-6-95208ce18454>:19: UserWarning: At least one of the wavelets (1591) is longer than the signal (1500). Consider using a longer signal or shorter wavelets.\n",
            "  con_epochs = spectral_connectivity_epochs(\n"
          ]
        },
        {
          "output_type": "stream",
          "name": "stdout",
          "text": [
            "    computing cross-spectral density for epoch 102\n"
          ]
        },
        {
          "output_type": "stream",
          "name": "stderr",
          "text": [
            "<ipython-input-6-95208ce18454>:19: UserWarning: At least one of the wavelets (1591) is longer than the signal (1500). Consider using a longer signal or shorter wavelets.\n",
            "  con_epochs = spectral_connectivity_epochs(\n"
          ]
        },
        {
          "output_type": "stream",
          "name": "stdout",
          "text": [
            "    computing cross-spectral density for epoch 103\n"
          ]
        },
        {
          "output_type": "stream",
          "name": "stderr",
          "text": [
            "<ipython-input-6-95208ce18454>:19: UserWarning: At least one of the wavelets (1591) is longer than the signal (1500). Consider using a longer signal or shorter wavelets.\n",
            "  con_epochs = spectral_connectivity_epochs(\n"
          ]
        },
        {
          "output_type": "stream",
          "name": "stdout",
          "text": [
            "    computing cross-spectral density for epoch 104\n"
          ]
        },
        {
          "output_type": "stream",
          "name": "stderr",
          "text": [
            "<ipython-input-6-95208ce18454>:19: UserWarning: At least one of the wavelets (1591) is longer than the signal (1500). Consider using a longer signal or shorter wavelets.\n",
            "  con_epochs = spectral_connectivity_epochs(\n"
          ]
        },
        {
          "output_type": "stream",
          "name": "stdout",
          "text": [
            "    computing cross-spectral density for epoch 105\n"
          ]
        },
        {
          "output_type": "stream",
          "name": "stderr",
          "text": [
            "<ipython-input-6-95208ce18454>:19: UserWarning: At least one of the wavelets (1591) is longer than the signal (1500). Consider using a longer signal or shorter wavelets.\n",
            "  con_epochs = spectral_connectivity_epochs(\n"
          ]
        },
        {
          "output_type": "stream",
          "name": "stdout",
          "text": [
            "    computing cross-spectral density for epoch 106\n"
          ]
        },
        {
          "output_type": "stream",
          "name": "stderr",
          "text": [
            "<ipython-input-6-95208ce18454>:19: UserWarning: At least one of the wavelets (1591) is longer than the signal (1500). Consider using a longer signal or shorter wavelets.\n",
            "  con_epochs = spectral_connectivity_epochs(\n"
          ]
        },
        {
          "output_type": "stream",
          "name": "stdout",
          "text": [
            "    computing cross-spectral density for epoch 107\n"
          ]
        },
        {
          "output_type": "stream",
          "name": "stderr",
          "text": [
            "<ipython-input-6-95208ce18454>:19: UserWarning: At least one of the wavelets (1591) is longer than the signal (1500). Consider using a longer signal or shorter wavelets.\n",
            "  con_epochs = spectral_connectivity_epochs(\n"
          ]
        },
        {
          "output_type": "stream",
          "name": "stdout",
          "text": [
            "    computing cross-spectral density for epoch 108\n"
          ]
        },
        {
          "output_type": "stream",
          "name": "stderr",
          "text": [
            "<ipython-input-6-95208ce18454>:19: UserWarning: At least one of the wavelets (1591) is longer than the signal (1500). Consider using a longer signal or shorter wavelets.\n",
            "  con_epochs = spectral_connectivity_epochs(\n"
          ]
        },
        {
          "output_type": "stream",
          "name": "stdout",
          "text": [
            "    computing cross-spectral density for epoch 109\n"
          ]
        },
        {
          "output_type": "stream",
          "name": "stderr",
          "text": [
            "<ipython-input-6-95208ce18454>:19: UserWarning: At least one of the wavelets (1591) is longer than the signal (1500). Consider using a longer signal or shorter wavelets.\n",
            "  con_epochs = spectral_connectivity_epochs(\n"
          ]
        },
        {
          "output_type": "stream",
          "name": "stdout",
          "text": [
            "    computing cross-spectral density for epoch 110\n"
          ]
        },
        {
          "output_type": "stream",
          "name": "stderr",
          "text": [
            "<ipython-input-6-95208ce18454>:19: UserWarning: At least one of the wavelets (1591) is longer than the signal (1500). Consider using a longer signal or shorter wavelets.\n",
            "  con_epochs = spectral_connectivity_epochs(\n"
          ]
        },
        {
          "output_type": "stream",
          "name": "stdout",
          "text": [
            "    computing cross-spectral density for epoch 111\n"
          ]
        },
        {
          "output_type": "stream",
          "name": "stderr",
          "text": [
            "<ipython-input-6-95208ce18454>:19: UserWarning: At least one of the wavelets (1591) is longer than the signal (1500). Consider using a longer signal or shorter wavelets.\n",
            "  con_epochs = spectral_connectivity_epochs(\n"
          ]
        },
        {
          "output_type": "stream",
          "name": "stdout",
          "text": [
            "    computing cross-spectral density for epoch 112\n"
          ]
        },
        {
          "output_type": "stream",
          "name": "stderr",
          "text": [
            "<ipython-input-6-95208ce18454>:19: UserWarning: At least one of the wavelets (1591) is longer than the signal (1500). Consider using a longer signal or shorter wavelets.\n",
            "  con_epochs = spectral_connectivity_epochs(\n"
          ]
        },
        {
          "output_type": "stream",
          "name": "stdout",
          "text": [
            "    computing cross-spectral density for epoch 113\n"
          ]
        },
        {
          "output_type": "stream",
          "name": "stderr",
          "text": [
            "<ipython-input-6-95208ce18454>:19: UserWarning: At least one of the wavelets (1591) is longer than the signal (1500). Consider using a longer signal or shorter wavelets.\n",
            "  con_epochs = spectral_connectivity_epochs(\n"
          ]
        },
        {
          "output_type": "stream",
          "name": "stdout",
          "text": [
            "    computing cross-spectral density for epoch 114\n"
          ]
        },
        {
          "output_type": "stream",
          "name": "stderr",
          "text": [
            "<ipython-input-6-95208ce18454>:19: UserWarning: At least one of the wavelets (1591) is longer than the signal (1500). Consider using a longer signal or shorter wavelets.\n",
            "  con_epochs = spectral_connectivity_epochs(\n"
          ]
        },
        {
          "output_type": "stream",
          "name": "stdout",
          "text": [
            "    computing cross-spectral density for epoch 115\n"
          ]
        },
        {
          "output_type": "stream",
          "name": "stderr",
          "text": [
            "<ipython-input-6-95208ce18454>:19: UserWarning: At least one of the wavelets (1591) is longer than the signal (1500). Consider using a longer signal or shorter wavelets.\n",
            "  con_epochs = spectral_connectivity_epochs(\n"
          ]
        },
        {
          "output_type": "stream",
          "name": "stdout",
          "text": [
            "    computing cross-spectral density for epoch 116\n"
          ]
        },
        {
          "output_type": "stream",
          "name": "stderr",
          "text": [
            "<ipython-input-6-95208ce18454>:19: UserWarning: At least one of the wavelets (1591) is longer than the signal (1500). Consider using a longer signal or shorter wavelets.\n",
            "  con_epochs = spectral_connectivity_epochs(\n"
          ]
        },
        {
          "output_type": "stream",
          "name": "stdout",
          "text": [
            "    computing cross-spectral density for epoch 117\n"
          ]
        },
        {
          "output_type": "stream",
          "name": "stderr",
          "text": [
            "<ipython-input-6-95208ce18454>:19: UserWarning: At least one of the wavelets (1591) is longer than the signal (1500). Consider using a longer signal or shorter wavelets.\n",
            "  con_epochs = spectral_connectivity_epochs(\n"
          ]
        },
        {
          "output_type": "stream",
          "name": "stdout",
          "text": [
            "    computing cross-spectral density for epoch 118\n"
          ]
        },
        {
          "output_type": "stream",
          "name": "stderr",
          "text": [
            "<ipython-input-6-95208ce18454>:19: UserWarning: At least one of the wavelets (1591) is longer than the signal (1500). Consider using a longer signal or shorter wavelets.\n",
            "  con_epochs = spectral_connectivity_epochs(\n"
          ]
        },
        {
          "output_type": "stream",
          "name": "stdout",
          "text": [
            "    computing cross-spectral density for epoch 119\n"
          ]
        },
        {
          "output_type": "stream",
          "name": "stderr",
          "text": [
            "<ipython-input-6-95208ce18454>:19: UserWarning: At least one of the wavelets (1591) is longer than the signal (1500). Consider using a longer signal or shorter wavelets.\n",
            "  con_epochs = spectral_connectivity_epochs(\n"
          ]
        },
        {
          "output_type": "stream",
          "name": "stdout",
          "text": [
            "    computing cross-spectral density for epoch 120\n"
          ]
        },
        {
          "output_type": "stream",
          "name": "stderr",
          "text": [
            "<ipython-input-6-95208ce18454>:19: UserWarning: At least one of the wavelets (1591) is longer than the signal (1500). Consider using a longer signal or shorter wavelets.\n",
            "  con_epochs = spectral_connectivity_epochs(\n"
          ]
        },
        {
          "output_type": "stream",
          "name": "stdout",
          "text": [
            "    computing cross-spectral density for epoch 121\n"
          ]
        },
        {
          "output_type": "stream",
          "name": "stderr",
          "text": [
            "<ipython-input-6-95208ce18454>:19: UserWarning: At least one of the wavelets (1591) is longer than the signal (1500). Consider using a longer signal or shorter wavelets.\n",
            "  con_epochs = spectral_connectivity_epochs(\n"
          ]
        },
        {
          "output_type": "stream",
          "name": "stdout",
          "text": [
            "    computing cross-spectral density for epoch 122\n"
          ]
        },
        {
          "output_type": "stream",
          "name": "stderr",
          "text": [
            "<ipython-input-6-95208ce18454>:19: UserWarning: At least one of the wavelets (1591) is longer than the signal (1500). Consider using a longer signal or shorter wavelets.\n",
            "  con_epochs = spectral_connectivity_epochs(\n"
          ]
        },
        {
          "output_type": "stream",
          "name": "stdout",
          "text": [
            "    computing cross-spectral density for epoch 123\n"
          ]
        },
        {
          "output_type": "stream",
          "name": "stderr",
          "text": [
            "<ipython-input-6-95208ce18454>:19: UserWarning: At least one of the wavelets (1591) is longer than the signal (1500). Consider using a longer signal or shorter wavelets.\n",
            "  con_epochs = spectral_connectivity_epochs(\n"
          ]
        },
        {
          "output_type": "stream",
          "name": "stdout",
          "text": [
            "    computing cross-spectral density for epoch 124\n"
          ]
        },
        {
          "output_type": "stream",
          "name": "stderr",
          "text": [
            "<ipython-input-6-95208ce18454>:19: UserWarning: At least one of the wavelets (1591) is longer than the signal (1500). Consider using a longer signal or shorter wavelets.\n",
            "  con_epochs = spectral_connectivity_epochs(\n"
          ]
        },
        {
          "output_type": "stream",
          "name": "stdout",
          "text": [
            "    computing cross-spectral density for epoch 125\n"
          ]
        },
        {
          "output_type": "stream",
          "name": "stderr",
          "text": [
            "<ipython-input-6-95208ce18454>:19: UserWarning: At least one of the wavelets (1591) is longer than the signal (1500). Consider using a longer signal or shorter wavelets.\n",
            "  con_epochs = spectral_connectivity_epochs(\n"
          ]
        },
        {
          "output_type": "stream",
          "name": "stdout",
          "text": [
            "    computing cross-spectral density for epoch 126\n"
          ]
        },
        {
          "output_type": "stream",
          "name": "stderr",
          "text": [
            "<ipython-input-6-95208ce18454>:19: UserWarning: At least one of the wavelets (1591) is longer than the signal (1500). Consider using a longer signal or shorter wavelets.\n",
            "  con_epochs = spectral_connectivity_epochs(\n"
          ]
        },
        {
          "output_type": "stream",
          "name": "stdout",
          "text": [
            "    computing cross-spectral density for epoch 127\n"
          ]
        },
        {
          "output_type": "stream",
          "name": "stderr",
          "text": [
            "<ipython-input-6-95208ce18454>:19: UserWarning: At least one of the wavelets (1591) is longer than the signal (1500). Consider using a longer signal or shorter wavelets.\n",
            "  con_epochs = spectral_connectivity_epochs(\n"
          ]
        },
        {
          "output_type": "stream",
          "name": "stdout",
          "text": [
            "    computing cross-spectral density for epoch 128\n"
          ]
        },
        {
          "output_type": "stream",
          "name": "stderr",
          "text": [
            "<ipython-input-6-95208ce18454>:19: UserWarning: At least one of the wavelets (1591) is longer than the signal (1500). Consider using a longer signal or shorter wavelets.\n",
            "  con_epochs = spectral_connectivity_epochs(\n"
          ]
        },
        {
          "output_type": "stream",
          "name": "stdout",
          "text": [
            "    computing cross-spectral density for epoch 129\n"
          ]
        },
        {
          "output_type": "stream",
          "name": "stderr",
          "text": [
            "<ipython-input-6-95208ce18454>:19: UserWarning: At least one of the wavelets (1591) is longer than the signal (1500). Consider using a longer signal or shorter wavelets.\n",
            "  con_epochs = spectral_connectivity_epochs(\n"
          ]
        },
        {
          "output_type": "stream",
          "name": "stdout",
          "text": [
            "    computing cross-spectral density for epoch 130\n"
          ]
        },
        {
          "output_type": "stream",
          "name": "stderr",
          "text": [
            "<ipython-input-6-95208ce18454>:19: UserWarning: At least one of the wavelets (1591) is longer than the signal (1500). Consider using a longer signal or shorter wavelets.\n",
            "  con_epochs = spectral_connectivity_epochs(\n"
          ]
        },
        {
          "output_type": "stream",
          "name": "stdout",
          "text": [
            "    computing cross-spectral density for epoch 131\n"
          ]
        },
        {
          "output_type": "stream",
          "name": "stderr",
          "text": [
            "<ipython-input-6-95208ce18454>:19: UserWarning: At least one of the wavelets (1591) is longer than the signal (1500). Consider using a longer signal or shorter wavelets.\n",
            "  con_epochs = spectral_connectivity_epochs(\n"
          ]
        },
        {
          "output_type": "stream",
          "name": "stdout",
          "text": [
            "    computing cross-spectral density for epoch 132\n"
          ]
        },
        {
          "output_type": "stream",
          "name": "stderr",
          "text": [
            "<ipython-input-6-95208ce18454>:19: UserWarning: At least one of the wavelets (1591) is longer than the signal (1500). Consider using a longer signal or shorter wavelets.\n",
            "  con_epochs = spectral_connectivity_epochs(\n"
          ]
        },
        {
          "output_type": "stream",
          "name": "stdout",
          "text": [
            "    computing cross-spectral density for epoch 133\n"
          ]
        },
        {
          "output_type": "stream",
          "name": "stderr",
          "text": [
            "<ipython-input-6-95208ce18454>:19: UserWarning: At least one of the wavelets (1591) is longer than the signal (1500). Consider using a longer signal or shorter wavelets.\n",
            "  con_epochs = spectral_connectivity_epochs(\n"
          ]
        },
        {
          "output_type": "stream",
          "name": "stdout",
          "text": [
            "    computing cross-spectral density for epoch 134\n"
          ]
        },
        {
          "output_type": "stream",
          "name": "stderr",
          "text": [
            "<ipython-input-6-95208ce18454>:19: UserWarning: At least one of the wavelets (1591) is longer than the signal (1500). Consider using a longer signal or shorter wavelets.\n",
            "  con_epochs = spectral_connectivity_epochs(\n"
          ]
        },
        {
          "output_type": "stream",
          "name": "stdout",
          "text": [
            "    computing cross-spectral density for epoch 135\n"
          ]
        },
        {
          "output_type": "stream",
          "name": "stderr",
          "text": [
            "<ipython-input-6-95208ce18454>:19: UserWarning: At least one of the wavelets (1591) is longer than the signal (1500). Consider using a longer signal or shorter wavelets.\n",
            "  con_epochs = spectral_connectivity_epochs(\n"
          ]
        },
        {
          "output_type": "stream",
          "name": "stdout",
          "text": [
            "    computing cross-spectral density for epoch 136\n"
          ]
        },
        {
          "output_type": "stream",
          "name": "stderr",
          "text": [
            "<ipython-input-6-95208ce18454>:19: UserWarning: At least one of the wavelets (1591) is longer than the signal (1500). Consider using a longer signal or shorter wavelets.\n",
            "  con_epochs = spectral_connectivity_epochs(\n"
          ]
        },
        {
          "output_type": "stream",
          "name": "stdout",
          "text": [
            "    computing cross-spectral density for epoch 137\n"
          ]
        },
        {
          "output_type": "stream",
          "name": "stderr",
          "text": [
            "<ipython-input-6-95208ce18454>:19: UserWarning: At least one of the wavelets (1591) is longer than the signal (1500). Consider using a longer signal or shorter wavelets.\n",
            "  con_epochs = spectral_connectivity_epochs(\n"
          ]
        },
        {
          "output_type": "stream",
          "name": "stdout",
          "text": [
            "    computing cross-spectral density for epoch 138\n"
          ]
        },
        {
          "output_type": "stream",
          "name": "stderr",
          "text": [
            "<ipython-input-6-95208ce18454>:19: UserWarning: At least one of the wavelets (1591) is longer than the signal (1500). Consider using a longer signal or shorter wavelets.\n",
            "  con_epochs = spectral_connectivity_epochs(\n"
          ]
        },
        {
          "output_type": "stream",
          "name": "stdout",
          "text": [
            "    computing cross-spectral density for epoch 139\n"
          ]
        },
        {
          "output_type": "stream",
          "name": "stderr",
          "text": [
            "<ipython-input-6-95208ce18454>:19: UserWarning: At least one of the wavelets (1591) is longer than the signal (1500). Consider using a longer signal or shorter wavelets.\n",
            "  con_epochs = spectral_connectivity_epochs(\n"
          ]
        },
        {
          "output_type": "stream",
          "name": "stdout",
          "text": [
            "    computing cross-spectral density for epoch 140\n"
          ]
        },
        {
          "output_type": "stream",
          "name": "stderr",
          "text": [
            "<ipython-input-6-95208ce18454>:19: UserWarning: At least one of the wavelets (1591) is longer than the signal (1500). Consider using a longer signal or shorter wavelets.\n",
            "  con_epochs = spectral_connectivity_epochs(\n"
          ]
        },
        {
          "output_type": "stream",
          "name": "stdout",
          "text": [
            "    computing cross-spectral density for epoch 141\n"
          ]
        },
        {
          "output_type": "stream",
          "name": "stderr",
          "text": [
            "<ipython-input-6-95208ce18454>:19: UserWarning: At least one of the wavelets (1591) is longer than the signal (1500). Consider using a longer signal or shorter wavelets.\n",
            "  con_epochs = spectral_connectivity_epochs(\n"
          ]
        },
        {
          "output_type": "stream",
          "name": "stdout",
          "text": [
            "    computing cross-spectral density for epoch 142\n"
          ]
        },
        {
          "output_type": "stream",
          "name": "stderr",
          "text": [
            "<ipython-input-6-95208ce18454>:19: UserWarning: At least one of the wavelets (1591) is longer than the signal (1500). Consider using a longer signal or shorter wavelets.\n",
            "  con_epochs = spectral_connectivity_epochs(\n"
          ]
        },
        {
          "output_type": "stream",
          "name": "stdout",
          "text": [
            "    computing cross-spectral density for epoch 143\n"
          ]
        },
        {
          "output_type": "stream",
          "name": "stderr",
          "text": [
            "<ipython-input-6-95208ce18454>:19: UserWarning: At least one of the wavelets (1591) is longer than the signal (1500). Consider using a longer signal or shorter wavelets.\n",
            "  con_epochs = spectral_connectivity_epochs(\n"
          ]
        },
        {
          "output_type": "stream",
          "name": "stdout",
          "text": [
            "    computing cross-spectral density for epoch 144\n"
          ]
        },
        {
          "output_type": "stream",
          "name": "stderr",
          "text": [
            "<ipython-input-6-95208ce18454>:19: UserWarning: At least one of the wavelets (1591) is longer than the signal (1500). Consider using a longer signal or shorter wavelets.\n",
            "  con_epochs = spectral_connectivity_epochs(\n"
          ]
        },
        {
          "output_type": "stream",
          "name": "stdout",
          "text": [
            "    computing cross-spectral density for epoch 145\n"
          ]
        },
        {
          "output_type": "stream",
          "name": "stderr",
          "text": [
            "<ipython-input-6-95208ce18454>:19: UserWarning: At least one of the wavelets (1591) is longer than the signal (1500). Consider using a longer signal or shorter wavelets.\n",
            "  con_epochs = spectral_connectivity_epochs(\n"
          ]
        },
        {
          "output_type": "stream",
          "name": "stdout",
          "text": [
            "    computing cross-spectral density for epoch 146\n"
          ]
        },
        {
          "output_type": "stream",
          "name": "stderr",
          "text": [
            "<ipython-input-6-95208ce18454>:19: UserWarning: At least one of the wavelets (1591) is longer than the signal (1500). Consider using a longer signal or shorter wavelets.\n",
            "  con_epochs = spectral_connectivity_epochs(\n"
          ]
        },
        {
          "output_type": "stream",
          "name": "stdout",
          "text": [
            "    computing cross-spectral density for epoch 147\n"
          ]
        },
        {
          "output_type": "stream",
          "name": "stderr",
          "text": [
            "<ipython-input-6-95208ce18454>:19: UserWarning: At least one of the wavelets (1591) is longer than the signal (1500). Consider using a longer signal or shorter wavelets.\n",
            "  con_epochs = spectral_connectivity_epochs(\n"
          ]
        },
        {
          "output_type": "stream",
          "name": "stdout",
          "text": [
            "    computing cross-spectral density for epoch 148\n"
          ]
        },
        {
          "output_type": "stream",
          "name": "stderr",
          "text": [
            "<ipython-input-6-95208ce18454>:19: UserWarning: At least one of the wavelets (1591) is longer than the signal (1500). Consider using a longer signal or shorter wavelets.\n",
            "  con_epochs = spectral_connectivity_epochs(\n"
          ]
        },
        {
          "output_type": "stream",
          "name": "stdout",
          "text": [
            "    computing cross-spectral density for epoch 149\n"
          ]
        },
        {
          "output_type": "stream",
          "name": "stderr",
          "text": [
            "<ipython-input-6-95208ce18454>:19: UserWarning: At least one of the wavelets (1591) is longer than the signal (1500). Consider using a longer signal or shorter wavelets.\n",
            "  con_epochs = spectral_connectivity_epochs(\n"
          ]
        },
        {
          "output_type": "stream",
          "name": "stdout",
          "text": [
            "    computing cross-spectral density for epoch 150\n"
          ]
        },
        {
          "output_type": "stream",
          "name": "stderr",
          "text": [
            "<ipython-input-6-95208ce18454>:19: UserWarning: At least one of the wavelets (1591) is longer than the signal (1500). Consider using a longer signal or shorter wavelets.\n",
            "  con_epochs = spectral_connectivity_epochs(\n"
          ]
        },
        {
          "output_type": "stream",
          "name": "stdout",
          "text": [
            "    computing cross-spectral density for epoch 151\n"
          ]
        },
        {
          "output_type": "stream",
          "name": "stderr",
          "text": [
            "<ipython-input-6-95208ce18454>:19: UserWarning: At least one of the wavelets (1591) is longer than the signal (1500). Consider using a longer signal or shorter wavelets.\n",
            "  con_epochs = spectral_connectivity_epochs(\n"
          ]
        },
        {
          "output_type": "stream",
          "name": "stdout",
          "text": [
            "    computing cross-spectral density for epoch 152\n"
          ]
        },
        {
          "output_type": "stream",
          "name": "stderr",
          "text": [
            "<ipython-input-6-95208ce18454>:19: UserWarning: At least one of the wavelets (1591) is longer than the signal (1500). Consider using a longer signal or shorter wavelets.\n",
            "  con_epochs = spectral_connectivity_epochs(\n"
          ]
        },
        {
          "output_type": "stream",
          "name": "stdout",
          "text": [
            "    computing cross-spectral density for epoch 153\n"
          ]
        },
        {
          "output_type": "stream",
          "name": "stderr",
          "text": [
            "<ipython-input-6-95208ce18454>:19: UserWarning: At least one of the wavelets (1591) is longer than the signal (1500). Consider using a longer signal or shorter wavelets.\n",
            "  con_epochs = spectral_connectivity_epochs(\n"
          ]
        },
        {
          "output_type": "stream",
          "name": "stdout",
          "text": [
            "    computing cross-spectral density for epoch 154\n"
          ]
        },
        {
          "output_type": "stream",
          "name": "stderr",
          "text": [
            "<ipython-input-6-95208ce18454>:19: UserWarning: At least one of the wavelets (1591) is longer than the signal (1500). Consider using a longer signal or shorter wavelets.\n",
            "  con_epochs = spectral_connectivity_epochs(\n"
          ]
        },
        {
          "output_type": "stream",
          "name": "stdout",
          "text": [
            "    computing cross-spectral density for epoch 155\n"
          ]
        },
        {
          "output_type": "stream",
          "name": "stderr",
          "text": [
            "<ipython-input-6-95208ce18454>:19: UserWarning: At least one of the wavelets (1591) is longer than the signal (1500). Consider using a longer signal or shorter wavelets.\n",
            "  con_epochs = spectral_connectivity_epochs(\n"
          ]
        },
        {
          "output_type": "stream",
          "name": "stdout",
          "text": [
            "    computing cross-spectral density for epoch 156\n"
          ]
        },
        {
          "output_type": "stream",
          "name": "stderr",
          "text": [
            "<ipython-input-6-95208ce18454>:19: UserWarning: At least one of the wavelets (1591) is longer than the signal (1500). Consider using a longer signal or shorter wavelets.\n",
            "  con_epochs = spectral_connectivity_epochs(\n"
          ]
        },
        {
          "output_type": "stream",
          "name": "stdout",
          "text": [
            "    computing cross-spectral density for epoch 157\n"
          ]
        },
        {
          "output_type": "stream",
          "name": "stderr",
          "text": [
            "<ipython-input-6-95208ce18454>:19: UserWarning: At least one of the wavelets (1591) is longer than the signal (1500). Consider using a longer signal or shorter wavelets.\n",
            "  con_epochs = spectral_connectivity_epochs(\n"
          ]
        },
        {
          "output_type": "stream",
          "name": "stdout",
          "text": [
            "    computing cross-spectral density for epoch 158\n"
          ]
        },
        {
          "output_type": "stream",
          "name": "stderr",
          "text": [
            "<ipython-input-6-95208ce18454>:19: UserWarning: At least one of the wavelets (1591) is longer than the signal (1500). Consider using a longer signal or shorter wavelets.\n",
            "  con_epochs = spectral_connectivity_epochs(\n"
          ]
        },
        {
          "output_type": "stream",
          "name": "stdout",
          "text": [
            "    computing cross-spectral density for epoch 159\n"
          ]
        },
        {
          "output_type": "stream",
          "name": "stderr",
          "text": [
            "<ipython-input-6-95208ce18454>:19: UserWarning: At least one of the wavelets (1591) is longer than the signal (1500). Consider using a longer signal or shorter wavelets.\n",
            "  con_epochs = spectral_connectivity_epochs(\n"
          ]
        },
        {
          "output_type": "stream",
          "name": "stdout",
          "text": [
            "    computing cross-spectral density for epoch 160\n"
          ]
        },
        {
          "output_type": "stream",
          "name": "stderr",
          "text": [
            "<ipython-input-6-95208ce18454>:19: UserWarning: At least one of the wavelets (1591) is longer than the signal (1500). Consider using a longer signal or shorter wavelets.\n",
            "  con_epochs = spectral_connectivity_epochs(\n"
          ]
        },
        {
          "output_type": "stream",
          "name": "stdout",
          "text": [
            "    computing cross-spectral density for epoch 161\n"
          ]
        },
        {
          "output_type": "stream",
          "name": "stderr",
          "text": [
            "<ipython-input-6-95208ce18454>:19: UserWarning: At least one of the wavelets (1591) is longer than the signal (1500). Consider using a longer signal or shorter wavelets.\n",
            "  con_epochs = spectral_connectivity_epochs(\n"
          ]
        },
        {
          "output_type": "stream",
          "name": "stdout",
          "text": [
            "    computing cross-spectral density for epoch 162\n"
          ]
        },
        {
          "output_type": "stream",
          "name": "stderr",
          "text": [
            "<ipython-input-6-95208ce18454>:19: UserWarning: At least one of the wavelets (1591) is longer than the signal (1500). Consider using a longer signal or shorter wavelets.\n",
            "  con_epochs = spectral_connectivity_epochs(\n"
          ]
        },
        {
          "output_type": "stream",
          "name": "stdout",
          "text": [
            "    computing cross-spectral density for epoch 163\n"
          ]
        },
        {
          "output_type": "stream",
          "name": "stderr",
          "text": [
            "<ipython-input-6-95208ce18454>:19: UserWarning: At least one of the wavelets (1591) is longer than the signal (1500). Consider using a longer signal or shorter wavelets.\n",
            "  con_epochs = spectral_connectivity_epochs(\n"
          ]
        },
        {
          "output_type": "stream",
          "name": "stdout",
          "text": [
            "    computing cross-spectral density for epoch 164\n"
          ]
        },
        {
          "output_type": "stream",
          "name": "stderr",
          "text": [
            "<ipython-input-6-95208ce18454>:19: UserWarning: At least one of the wavelets (1591) is longer than the signal (1500). Consider using a longer signal or shorter wavelets.\n",
            "  con_epochs = spectral_connectivity_epochs(\n"
          ]
        },
        {
          "output_type": "stream",
          "name": "stdout",
          "text": [
            "    assembling connectivity matrix\n",
            "[Connectivity computation done]\n"
          ]
        }
      ]
    },
    {
      "cell_type": "code",
      "source": [
        "# Plot the global connectivity over time\n",
        "n_channels = epochs.info[\"nchan\"]  # get number of channels\n",
        "times = epochs.times[epochs.times >= tmin]  # get the timepoints\n",
        "n_connections = (n_channels * n_channels - n_channels) / 2\n",
        "\n",
        "# Get global avg connectivity over all connections\n",
        "con_epochs_raveled_array = con_epochs.get_data(output=\"raveled\")\n",
        "global_con_epochs = np.sum(con_epochs_raveled_array, axis=0) / n_connections\n",
        "\n",
        "# Since there is only one freq band, we choose the first dimension\n",
        "global_con_epochs = global_con_epochs[0]\n",
        "\n",
        "fig = plt.figure()\n",
        "plt.plot(times, global_con_epochs)\n",
        "plt.xlabel(\"Time (s)\")\n",
        "plt.ylabel(\"Global theta wPLI over trials\")\n",
        "\n",
        "# Get the timepoint with highest global connectivity right after stimulus\n",
        "t_con_max = np.argmax(global_con_epochs[times <= 0.5])\n",
        "print(f\"Global theta wPLI peaks {times[t_con_max]:.3f}s after stimulus\")"
      ],
      "metadata": {
        "colab": {
          "base_uri": "https://localhost:8080/",
          "height": 314
        },
        "id": "Tw2wlR340-EC",
        "outputId": "92d75917-8ca2-4d19-f0e6-85357a4160ed"
      },
      "execution_count": 7,
      "outputs": [
        {
          "output_type": "stream",
          "name": "stdout",
          "text": [
            "Global theta wPLI peaks 0.124s after stimulus\n"
          ]
        },
        {
          "output_type": "display_data",
          "data": {
            "text/plain": [
              "<Figure size 2000x400 with 1 Axes>"
            ],
            "image/png": "[encoded data removed]"
          },
          "metadata": {}
        }
      ]
    },
    {
      "cell_type": "code",
      "source": [
        "# Plot the connectivity matrix at the timepoint with highest global wPLI\n",
        "con_epochs_matrix = con_epochs.get_data(output=\"dense\")[:, :, 0, t_con_max]\n",
        "\n",
        "fig = plt.figure()\n",
        "im = plt.imshow(con_epochs_matrix)\n",
        "fig.colorbar(im, label=\"Connectivity\")\n",
        "plt.ylabel(\"Channels\")\n",
        "plt.xlabel(\"Channels\")\n",
        "plt.show()\n",
        "\n",
        "# Visualize top 20 connections in 3D\n",
        "plot_sensors_connectivity(epochs.info, con_epochs_matrix)"
      ],
      "metadata": {
        "colab": {
          "base_uri": "https://localhost:8080/",
          "height": 748
        },
        "id": "MUMOx68o2M4E",
        "outputId": "44bb57b7-680b-4fb9-90e0-9a967cf37513"
      },
      "execution_count": 10,
      "outputs": [
        {
          "output_type": "display_data",
          "data": {
            "text/plain": [
              "<Figure size 2000x400 with 2 Axes>"
            ],
            "image/png": "[encoded data removed]"
          },
          "metadata": {}
        },
        {
          "output_type": "stream",
          "name": "stdout",
          "text": [
            "Using notebook 3d backend.\n",
            "\n"
          ]
        },
        {
          "output_type": "error",
          "ename": "RuntimeError",
          "evalue": "Using the notebook backend on Linux requires a compatible VTK setup. Consider using Xfvb or xvfb-run to set up a working virtual display, or install VTK with OSMesa enabled.",
          "traceback": [
            "\u001b[0;31m---------------------------------------------------------------------------\u001b[0m",
            "\u001b[0;31mRuntimeError\u001b[0m                              Traceback (most recent call last)",
            "\u001b[0;32m<ipython-input-10-c2c5caddac95>\u001b[0m in \u001b[0;36m<cell line: 12>\u001b[0;34m()\u001b[0m\n\u001b[1;32m     10\u001b[0m \u001b[0;34m\u001b[0m\u001b[0m\n\u001b[1;32m     11\u001b[0m \u001b[0;31m# Visualize top 20 connections in 3D\u001b[0m\u001b[0;34m\u001b[0m\u001b[0;34m\u001b[0m\u001b[0m\n\u001b[0;32m---> 12\u001b[0;31m \u001b[0mplot_sensors_connectivity\u001b[0m\u001b[0;34m(\u001b[0m\u001b[0mepochs\u001b[0m\u001b[0;34m.\u001b[0m\u001b[0minfo\u001b[0m\u001b[0;34m,\u001b[0m \u001b[0mcon_epochs_matrix\u001b[0m\u001b[0;34m)\u001b[0m\u001b[0;34m\u001b[0m\u001b[0;34m\u001b[0m\u001b[0m\n\u001b[0m",
            "\u001b[0;32m/usr/local/lib/python3.10/dist-packages/mne_connectivity/viz/_3d.py\u001b[0m in \u001b[0;36mplot_sensors_connectivity\u001b[0;34m(info, con, picks, cbar_label, n_con, cmap)\u001b[0m\n\u001b[1;32m     56\u001b[0m         \u001b[0mcon\u001b[0m \u001b[0;34m=\u001b[0m \u001b[0mcon\u001b[0m\u001b[0;34m.\u001b[0m\u001b[0mget_data\u001b[0m\u001b[0;34m(\u001b[0m\u001b[0;34m)\u001b[0m\u001b[0;34m\u001b[0m\u001b[0;34m\u001b[0m\u001b[0m\n\u001b[1;32m     57\u001b[0m \u001b[0;34m\u001b[0m\u001b[0m\n\u001b[0;32m---> 58\u001b[0;31m     \u001b[0mrenderer\u001b[0m \u001b[0;34m=\u001b[0m \u001b[0m_get_renderer\u001b[0m\u001b[0;34m(\u001b[0m\u001b[0msize\u001b[0m\u001b[0;34m=\u001b[0m\u001b[0;34m(\u001b[0m\u001b[0;36m600\u001b[0m\u001b[0;34m,\u001b[0m \u001b[0;36m600\u001b[0m\u001b[0;34m)\u001b[0m\u001b[0;34m,\u001b[0m \u001b[0mbgcolor\u001b[0m\u001b[0;34m=\u001b[0m\u001b[0;34m(\u001b[0m\u001b[0;36m0.5\u001b[0m\u001b[0;34m,\u001b[0m \u001b[0;36m0.5\u001b[0m\u001b[0;34m,\u001b[0m \u001b[0;36m0.5\u001b[0m\u001b[0;34m)\u001b[0m\u001b[0;34m)\u001b[0m\u001b[0;34m\u001b[0m\u001b[0;34m\u001b[0m\u001b[0m\n\u001b[0m\u001b[1;32m     59\u001b[0m \u001b[0;34m\u001b[0m\u001b[0m\n\u001b[1;32m     60\u001b[0m     \u001b[0mpicks\u001b[0m \u001b[0;34m=\u001b[0m \u001b[0m_picks_to_idx\u001b[0m\u001b[0;34m(\u001b[0m\u001b[0minfo\u001b[0m\u001b[0;34m,\u001b[0m \u001b[0mpicks\u001b[0m\u001b[0;34m)\u001b[0m\u001b[0;34m\u001b[0m\u001b[0;34m\u001b[0m\u001b[0m\n",
            "\u001b[0;32m/usr/local/lib/python3.10/dist-packages/mne/viz/backends/renderer.py\u001b[0m in \u001b[0;36m_get_renderer\u001b[0;34m(*args, **kwargs)\u001b[0m\n\u001b[1;32m     55\u001b[0m \u001b[0;32mdef\u001b[0m \u001b[0m_get_renderer\u001b[0m\u001b[0;34m(\u001b[0m\u001b[0;34m*\u001b[0m\u001b[0margs\u001b[0m\u001b[0;34m,\u001b[0m \u001b[0;34m**\u001b[0m\u001b[0mkwargs\u001b[0m\u001b[0;34m)\u001b[0m\u001b[0;34m:\u001b[0m\u001b[0;34m\u001b[0m\u001b[0;34m\u001b[0m\u001b[0m\n\u001b[1;32m     56\u001b[0m     \u001b[0m_get_3d_backend\u001b[0m\u001b[0;34m(\u001b[0m\u001b[0;34m)\u001b[0m\u001b[0;34m\u001b[0m\u001b[0;34m\u001b[0m\u001b[0m\n\u001b[0;32m---> 57\u001b[0;31m     \u001b[0;32mreturn\u001b[0m \u001b[0mbackend\u001b[0m\u001b[0;34m.\u001b[0m\u001b[0m_Renderer\u001b[0m\u001b[0;34m(\u001b[0m\u001b[0;34m*\u001b[0m\u001b[0margs\u001b[0m\u001b[0;34m,\u001b[0m \u001b[0;34m**\u001b[0m\u001b[0mkwargs\u001b[0m\u001b[0;34m)\u001b[0m\u001b[0;34m\u001b[0m\u001b[0;34m\u001b[0m\u001b[0m\n\u001b[0m\u001b[1;32m     58\u001b[0m \u001b[0;34m\u001b[0m\u001b[0m\n\u001b[1;32m     59\u001b[0m \u001b[0;34m\u001b[0m\u001b[0m\n",
            "\u001b[0;32m/usr/local/lib/python3.10/dist-packages/mne/viz/backends/_notebook.py\u001b[0m in \u001b[0;36m__init__\u001b[0;34m(self, *args, **kwargs)\u001b[0m\n\u001b[1;32m   1554\u001b[0m         \u001b[0mfullscreen\u001b[0m \u001b[0;34m=\u001b[0m \u001b[0mkwargs\u001b[0m\u001b[0;34m.\u001b[0m\u001b[0mpop\u001b[0m\u001b[0;34m(\u001b[0m\u001b[0;34m\"fullscreen\"\u001b[0m\u001b[0;34m,\u001b[0m \u001b[0;32mFalse\u001b[0m\u001b[0;34m)\u001b[0m\u001b[0;34m\u001b[0m\u001b[0;34m\u001b[0m\u001b[0m\n\u001b[1;32m   1555\u001b[0m         \u001b[0;32mif\u001b[0m \u001b[0;32mnot\u001b[0m \u001b[0m_notebook_vtk_works\u001b[0m\u001b[0;34m(\u001b[0m\u001b[0;34m)\u001b[0m\u001b[0;34m:\u001b[0m\u001b[0;34m\u001b[0m\u001b[0;34m\u001b[0m\u001b[0m\n\u001b[0;32m-> 1556\u001b[0;31m             raise RuntimeError(\n\u001b[0m\u001b[1;32m   1557\u001b[0m                 \u001b[0;34m\"Using the notebook backend on Linux requires a compatible \"\u001b[0m\u001b[0;34m\u001b[0m\u001b[0;34m\u001b[0m\u001b[0m\n\u001b[1;32m   1558\u001b[0m                 \u001b[0;34m\"VTK setup. Consider using Xfvb or xvfb-run to set up a \"\u001b[0m\u001b[0;34m\u001b[0m\u001b[0;34m\u001b[0m\u001b[0m\n",
            "\u001b[0;31mRuntimeError\u001b[0m: Using the notebook backend on Linux requires a compatible VTK setup. Consider using Xfvb or xvfb-run to set up a working virtual display, or install VTK with OSMesa enabled."
          ]
        }
      ]
    },
    {
      "cell_type": "code",
      "source": [
        "!pip install pyvistaqt"
      ],
      "metadata": {
        "colab": {
          "base_uri": "https://localhost:8080/"
        },
        "id": "MBKSjBZw2eZl",
        "outputId": "cd96a620-a6d6-4520-d0f6-680638d46b2c"
      },
      "execution_count": 9,
      "outputs": [
        {
          "output_type": "stream",
          "name": "stdout",
          "text": [
            "Collecting pyvistaqt\n",
            "  Downloading pyvistaqt-0.11.1-py3-none-any.whl.metadata (4.5 kB)\n",
            "Collecting pyvista>=0.32.0 (from pyvistaqt)\n",
            "  Downloading pyvista-0.44.1-py3-none-any.whl.metadata (15 kB)\n",
            "Collecting QtPy>=1.9.0 (from pyvistaqt)\n",
            "  Downloading QtPy-2.4.1-py3-none-any.whl.metadata (12 kB)\n",
            "Requirement already satisfied: matplotlib>=3.0.1 in /usr/local/lib/python3.10/dist-packages (from pyvista>=0.32.0->pyvistaqt) (3.7.1)\n",
            "Requirement already satisfied: numpy>=1.21.0 in /usr/local/lib/python3.10/dist-packages (from pyvista>=0.32.0->pyvistaqt) (1.25.2)\n",
            "Requirement already satisfied: pillow in /usr/local/lib/python3.10/dist-packages (from pyvista>=0.32.0->pyvistaqt) (9.4.0)\n",
            "Requirement already satisfied: pooch in /usr/local/lib/python3.10/dist-packages (from pyvista>=0.32.0->pyvistaqt) (1.8.2)\n",
            "Requirement already satisfied: scooby>=0.5.1 in /usr/local/lib/python3.10/dist-packages (from pyvista>=0.32.0->pyvistaqt) (0.10.0)\n",
            "Collecting vtk (from pyvista>=0.32.0->pyvistaqt)\n",
            "  Downloading vtk-9.3.1-cp310-cp310-manylinux_2_17_x86_64.manylinux2014_x86_64.whl.metadata (5.2 kB)\n",
            "Requirement already satisfied: typing-extensions in /usr/local/lib/python3.10/dist-packages (from pyvista>=0.32.0->pyvistaqt) (4.12.2)\n",
            "Requirement already satisfied: packaging in /usr/local/lib/python3.10/dist-packages (from QtPy>=1.9.0->pyvistaqt) (24.1)\n",
            "Requirement already satisfied: contourpy>=1.0.1 in /usr/local/lib/python3.10/dist-packages (from matplotlib>=3.0.1->pyvista>=0.32.0->pyvistaqt) (1.2.1)\n",
            "Requirement already satisfied: cycler>=0.10 in /usr/local/lib/python3.10/dist-packages (from matplotlib>=3.0.1->pyvista>=0.32.0->pyvistaqt) (0.12.1)\n",
            "Requirement already satisfied: fonttools>=4.22.0 in /usr/local/lib/python3.10/dist-packages (from matplotlib>=3.0.1->pyvista>=0.32.0->pyvistaqt) (4.53.1)\n",
            "Requirement already satisfied: kiwisolver>=1.0.1 in /usr/local/lib/python3.10/dist-packages (from matplotlib>=3.0.1->pyvista>=0.32.0->pyvistaqt) (1.4.5)\n",
            "Requirement already satisfied: pyparsing>=2.3.1 in /usr/local/lib/python3.10/dist-packages (from matplotlib>=3.0.1->pyvista>=0.32.0->pyvistaqt) (3.1.2)\n",
            "Requirement already satisfied: python-dateutil>=2.7 in /usr/local/lib/python3.10/dist-packages (from matplotlib>=3.0.1->pyvista>=0.32.0->pyvistaqt) (2.8.2)\n",
            "Requirement already satisfied: platformdirs>=2.5.0 in /usr/local/lib/python3.10/dist-packages (from pooch->pyvista>=0.32.0->pyvistaqt) (4.2.2)\n",
            "Requirement already satisfied: requests>=2.19.0 in /usr/local/lib/python3.10/dist-packages (from pooch->pyvista>=0.32.0->pyvistaqt) (2.31.0)\n",
            "Requirement already satisfied: six>=1.5 in /usr/local/lib/python3.10/dist-packages (from python-dateutil>=2.7->matplotlib>=3.0.1->pyvista>=0.32.0->pyvistaqt) (1.16.0)\n",
            "Requirement already satisfied: charset-normalizer<4,>=2 in /usr/local/lib/python3.10/dist-packages (from requests>=2.19.0->pooch->pyvista>=0.32.0->pyvistaqt) (3.3.2)\n",
            "Requirement already satisfied: idna<4,>=2.5 in /usr/local/lib/python3.10/dist-packages (from requests>=2.19.0->pooch->pyvista>=0.32.0->pyvistaqt) (3.7)\n",
            "Requirement already satisfied: urllib3<3,>=1.21.1 in /usr/local/lib/python3.10/dist-packages (from requests>=2.19.0->pooch->pyvista>=0.32.0->pyvistaqt) (2.0.7)\n",
            "Requirement already satisfied: certifi>=2017.4.17 in /usr/local/lib/python3.10/dist-packages (from requests>=2.19.0->pooch->pyvista>=0.32.0->pyvistaqt) (2024.7.4)\n",
            "Downloading pyvistaqt-0.11.1-py3-none-any.whl (131 kB)\n",
            "\u001b[2K   \u001b[90m━━━━━━━━━━━━━━━━━━━━━━━━━━━━━━━━━━━━━━━━\u001b[0m \u001b[32m131.2/131.2 kB\u001b[0m \u001b[31m5.7 MB/s\u001b[0m eta \u001b[36m0:00:00\u001b[0m\n",
            "\u001b[?25hDownloading pyvista-0.44.1-py3-none-any.whl (2.2 MB)\n",
            "\u001b[2K   \u001b[90m━━━━━━━━━━━━━━━━━━━━━━━━━━━━━━━━━━━━━━━━\u001b[0m \u001b[32m2.2/2.2 MB\u001b[0m \u001b[31m39.6 MB/s\u001b[0m eta \u001b[36m0:00:00\u001b[0m\n",
            "\u001b[?25hDownloading QtPy-2.4.1-py3-none-any.whl (93 kB)\n",
            "\u001b[2K   \u001b[90m━━━━━━━━━━━━━━━━━━━━━━━━━━━━━━━━━━━━━━━━\u001b[0m \u001b[32m93.5/93.5 kB\u001b[0m \u001b[31m6.0 MB/s\u001b[0m eta \u001b[36m0:00:00\u001b[0m\n",
            "\u001b[?25hDownloading vtk-9.3.1-cp310-cp310-manylinux_2_17_x86_64.manylinux2014_x86_64.whl (92.1 MB)\n",
            "\u001b[2K   \u001b[90m━━━━━━━━━━━━━━━━━━━━━━━━━━━━━━━━━━━━━━━━\u001b[0m \u001b[32m92.1/92.1 MB\u001b[0m \u001b[31m5.1 MB/s\u001b[0m eta \u001b[36m0:00:00\u001b[0m\n",
            "\u001b[?25hInstalling collected packages: QtPy, vtk, pyvista, pyvistaqt\n",
            "Successfully installed QtPy-2.4.1 pyvista-0.44.1 pyvistaqt-0.11.1 vtk-9.3.1\n"
          ]
        }
      ]
    },
    {
      "cell_type": "code",
      "source": [],
      "metadata": {
        "id": "DeTXeoYK2pNa"
      },
      "execution_count": null,
      "outputs": []
    }
  ]
}